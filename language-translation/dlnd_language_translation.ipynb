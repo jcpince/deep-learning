{
 "metadata": {
  "kernelspec": {
   "display_name": "Python 3",
   "language": "python",
   "name": "python3"
  },
  "language_info": {
   "codemirror_mode": {
    "name": "ipython",
    "version": 3
   },
   "file_extension": ".py",
   "mimetype": "text/x-python",
   "name": "python",
   "nbconvert_exporter": "python",
   "pygments_lexer": "ipython3",
   "version": "3.5.2"
  },
  "name": "",
  "signature": "sha256:7dddd18ac5c260550165838ee68e3d0500c6fd08bf5cd6f02966ba5a47be84f8"
 },
 "nbformat": 3,
 "nbformat_minor": 0,
 "worksheets": [
  {
   "cells": [
    {
     "cell_type": "markdown",
     "metadata": {
      "collapsed": true,
      "deletable": true,
      "editable": true
     },
     "source": [
      "# Language Translation\n",
      "In this project, you\u2019re going to take a peek into the realm of neural network machine translation.  You\u2019ll be training a sequence to sequence model on a dataset of English and French sentences that can translate new sentences from English to French.\n",
      "## Get the Data\n",
      "Since translating the whole language of English to French will take lots of time to train, we have provided you with a small portion of the English corpus."
     ]
    },
    {
     "cell_type": "code",
     "collapsed": false,
     "input": [
      "\"\"\"\n",
      "DON'T MODIFY ANYTHING IN THIS CELL\n",
      "\"\"\"\n",
      "import helper\n",
      "import problem_unittests as tests\n",
      "\n",
      "source_path = 'data/small_vocab_en'\n",
      "target_path = 'data/small_vocab_fr'\n",
      "source_text = helper.load_data(source_path)\n",
      "target_text = helper.load_data(target_path)"
     ],
     "language": "python",
     "metadata": {
      "deletable": true,
      "editable": true
     },
     "outputs": [],
     "prompt_number": 1
    },
    {
     "cell_type": "markdown",
     "metadata": {
      "deletable": true,
      "editable": true
     },
     "source": [
      "## Explore the Data\n",
      "Play around with view_sentence_range to view different parts of the data."
     ]
    },
    {
     "cell_type": "code",
     "collapsed": false,
     "input": [
      "view_sentence_range = (0, 10)\n",
      "\n",
      "\"\"\"\n",
      "DON'T MODIFY ANYTHING IN THIS CELL\n",
      "\"\"\"\n",
      "import numpy as np\n",
      "\n",
      "print('Dataset Stats')\n",
      "print('Roughly the number of unique words: {}'.format(len({word: None for word in source_text.split()})))\n",
      "\n",
      "sentences = source_text.split('\\n')\n",
      "word_counts = [len(sentence.split()) for sentence in sentences]\n",
      "print('Number of sentences: {}'.format(len(sentences)))\n",
      "print('Average number of words in a sentence: {}'.format(np.average(word_counts)))\n",
      "\n",
      "print()\n",
      "print('English sentences {} to {}:'.format(*view_sentence_range))\n",
      "print('\\n'.join(source_text.split('\\n')[view_sentence_range[0]:view_sentence_range[1]]))\n",
      "print()\n",
      "print('French sentences {} to {}:'.format(*view_sentence_range))\n",
      "print('\\n'.join(target_text.split('\\n')[view_sentence_range[0]:view_sentence_range[1]]))"
     ],
     "language": "python",
     "metadata": {
      "deletable": true,
      "editable": true
     },
     "outputs": [
      {
       "output_type": "stream",
       "stream": "stdout",
       "text": [
        "Dataset Stats\n",
        "Roughly the number of unique words: 227"
       ]
      },
      {
       "output_type": "stream",
       "stream": "stdout",
       "text": [
        "\n",
        "Number of sentences: 137861"
       ]
      },
      {
       "output_type": "stream",
       "stream": "stdout",
       "text": [
        "\n",
        "Average number of words in a sentence: 13.225277634719028\n",
        "\n",
        "English sentences 0 to 10:\n",
        "new jersey is sometimes quiet during autumn , and it is snowy in april .\n",
        "the united states is usually chilly during july , and it is usually freezing in november .\n",
        "california is usually quiet during march , and it is usually hot in june .\n",
        "the united states is sometimes mild during june , and it is cold in september .\n",
        "your least liked fruit is the grape , but my least liked is the apple .\n",
        "his favorite fruit is the orange , but my favorite is the grape .\n",
        "paris is relaxing during december , but it is usually chilly in july .\n",
        "new jersey is busy during spring , and it is never hot in march .\n",
        "our least liked fruit is the lemon , but my least liked is the grape .\n",
        "the united states is sometimes busy during january , and it is sometimes warm in november .\n",
        "\n",
        "French sentences 0 to 10:\n",
        "new jersey est parfois calme pendant l' automne , et il est neigeux en avril .\n",
        "les \u00e9tats-unis est g\u00e9n\u00e9ralement froid en juillet , et il g\u00e8le habituellement en novembre .\n",
        "california est g\u00e9n\u00e9ralement calme en mars , et il est g\u00e9n\u00e9ralement chaud en juin .\n",
        "les \u00e9tats-unis est parfois l\u00e9g\u00e8re en juin , et il fait froid en septembre .\n",
        "votre moins aim\u00e9 fruit est le raisin , mais mon moins aim\u00e9 est la pomme .\n",
        "son fruit pr\u00e9f\u00e9r\u00e9 est l'orange , mais mon pr\u00e9f\u00e9r\u00e9 est le raisin .\n",
        "paris est relaxant en d\u00e9cembre , mais il est g\u00e9n\u00e9ralement froid en juillet .\n",
        "new jersey est occup\u00e9 au printemps , et il est jamais chaude en mars .\n",
        "notre fruit est moins aim\u00e9 le citron , mais mon moins aim\u00e9 est le raisin .\n",
        "les \u00e9tats-unis est parfois occup\u00e9 en janvier , et il est parfois chaud en novembre .\n"
       ]
      }
     ],
     "prompt_number": 2
    },
    {
     "cell_type": "markdown",
     "metadata": {
      "deletable": true,
      "editable": true
     },
     "source": [
      "## Implement Preprocessing Function\n",
      "### Text to Word Ids\n",
      "As you did with other RNNs, you must turn the text into a number so the computer can understand it. In the function `text_to_ids()`, you'll turn `source_text` and `target_text` from words to ids.  However, you need to add the `<EOS>` word id at the end of each sentence from `target_text`.  This will help the neural network predict when the sentence should end.\n",
      "\n",
      "You can get the `<EOS>` word id by doing:\n",
      "```python\n",
      "target_vocab_to_int['<EOS>']\n",
      "```\n",
      "You can get other word ids using `source_vocab_to_int` and `target_vocab_to_int`."
     ]
    },
    {
     "cell_type": "code",
     "collapsed": false,
     "input": [
      "def text_to_ids(source_text, target_text, source_vocab_to_int, target_vocab_to_int):\n",
      "    \"\"\"\n",
      "    Convert source and target text to proper word ids\n",
      "    :param source_text: String that contains all the source text.\n",
      "    :param target_text: String that contains all the target text.\n",
      "    :param source_vocab_to_int: Dictionary to go from the source words to an id\n",
      "    :param target_vocab_to_int: Dictionary to go from the target words to an id\n",
      "    :return: A tuple of lists (source_id_text, target_id_text)\n",
      "    \"\"\"\n",
      "    source_id_text = list()\n",
      "    target_id_text = list()\n",
      "    for sentence in source_text.split('\\n'):\n",
      "        source_id_text.append([source_vocab_to_int[src] for src in sentence.split()])\n",
      "    for sentence in target_text.split('\\n'):\n",
      "        target_id_text.append([target_vocab_to_int[tgt] for tgt in sentence.split()])\n",
      "        target_id_text[-1].append(target_vocab_to_int[\"<EOS>\"])\n",
      "    return source_id_text, target_id_text\n",
      "\n",
      "\"\"\"\n",
      "DON'T MODIFY ANYTHING IN THIS CELL THAT IS BELOW THIS LINE\n",
      "\"\"\"\n",
      "tests.test_text_to_ids(text_to_ids)"
     ],
     "language": "python",
     "metadata": {
      "deletable": true,
      "editable": true
     },
     "outputs": [
      {
       "output_type": "stream",
       "stream": "stdout",
       "text": [
        "Tests Passed\n"
       ]
      }
     ],
     "prompt_number": 3
    },
    {
     "cell_type": "markdown",
     "metadata": {
      "deletable": true,
      "editable": true
     },
     "source": [
      "### Preprocess all the data and save it\n",
      "Running the code cell below will preprocess all the data and save it to file."
     ]
    },
    {
     "cell_type": "code",
     "collapsed": false,
     "input": [
      "\"\"\"\n",
      "DON'T MODIFY ANYTHING IN THIS CELL\n",
      "\"\"\"\n",
      "helper.preprocess_and_save_data(source_path, target_path, text_to_ids)"
     ],
     "language": "python",
     "metadata": {
      "deletable": true,
      "editable": true
     },
     "outputs": [],
     "prompt_number": 4
    },
    {
     "cell_type": "markdown",
     "metadata": {
      "deletable": true,
      "editable": true
     },
     "source": [
      "# Check Point\n",
      "This is your first checkpoint. If you ever decide to come back to this notebook or have to restart the notebook, you can start from here. The preprocessed data has been saved to disk."
     ]
    },
    {
     "cell_type": "code",
     "collapsed": false,
     "input": [
      "\"\"\"\n",
      "DON'T MODIFY ANYTHING IN THIS CELL\n",
      "\"\"\"\n",
      "import numpy as np\n",
      "import helper\n",
      "import problem_unittests as tests\n",
      "\n",
      "(source_int_text, target_int_text), (source_vocab_to_int, target_vocab_to_int), _ = helper.load_preprocess()"
     ],
     "language": "python",
     "metadata": {
      "deletable": true,
      "editable": true
     },
     "outputs": [],
     "prompt_number": 1
    },
    {
     "cell_type": "markdown",
     "metadata": {
      "deletable": true,
      "editable": true
     },
     "source": [
      "### Check the Version of TensorFlow and Access to GPU\n",
      "This will check to make sure you have the correct version of TensorFlow and access to a GPU"
     ]
    },
    {
     "cell_type": "code",
     "collapsed": false,
     "input": [
      "\"\"\"\n",
      "DON'T MODIFY ANYTHING IN THIS CELL\n",
      "\"\"\"\n",
      "from distutils.version import LooseVersion\n",
      "import warnings\n",
      "import tensorflow as tf\n",
      "\n",
      "# Check TensorFlow Version\n",
      "assert LooseVersion(tf.__version__) in [LooseVersion('1.0.0'), LooseVersion('1.0.1'), LooseVersion('1.2.0')], 'This project requires TensorFlow version 1.0  You are using {}'.format(tf.__version__)\n",
      "print('TensorFlow Version: {}'.format(tf.__version__))\n",
      "\n",
      "# Check for a GPU\n",
      "if not tf.test.gpu_device_name():\n",
      "    warnings.warn('No GPU found. Please use a GPU to train your neural network.')\n",
      "else:\n",
      "    print('Default GPU Device: {}'.format(tf.test.gpu_device_name()))"
     ],
     "language": "python",
     "metadata": {
      "deletable": true,
      "editable": true
     },
     "outputs": [
      {
       "output_type": "stream",
       "stream": "stdout",
       "text": [
        "TensorFlow Version: 1.0.1\n",
        "Default GPU Device: /gpu:0"
       ]
      },
      {
       "output_type": "stream",
       "stream": "stdout",
       "text": [
        "\n"
       ]
      }
     ],
     "prompt_number": 2
    },
    {
     "cell_type": "markdown",
     "metadata": {
      "deletable": true,
      "editable": true
     },
     "source": [
      "## Build the Neural Network\n",
      "You'll build the components necessary to build a Sequence-to-Sequence model by implementing the following functions below:\n",
      "- `model_inputs`\n",
      "- `process_decoding_input`\n",
      "- `encoding_layer`\n",
      "- `decoding_layer_train`\n",
      "- `decoding_layer_infer`\n",
      "- `decoding_layer`\n",
      "- `seq2seq_model`\n",
      "\n",
      "### Input\n",
      "Implement the `model_inputs()` function to create TF Placeholders for the Neural Network. It should create the following placeholders:\n",
      "\n",
      "- Input text placeholder named \"input\" using the TF Placeholder name parameter with rank 2.\n",
      "- Targets placeholder with rank 2.\n",
      "- Learning rate placeholder with rank 0.\n",
      "- Keep probability placeholder named \"keep_prob\" using the TF Placeholder name parameter with rank 0.\n",
      "\n",
      "Return the placeholders in the following the tuple (Input, Targets, Learing Rate, Keep Probability)"
     ]
    },
    {
     "cell_type": "code",
     "collapsed": false,
     "input": [
      "def model_inputs():\n",
      "    \"\"\"\n",
      "    Create TF Placeholders for input, targets, and learning rate.\n",
      "    :return: Tuple (input, targets, learning rate, keep probability)\n",
      "    \"\"\"\n",
      "    text_input = tf.placeholder(tf.int32, shape=(None,None), name=\"input\")\n",
      "    targets = tf.placeholder(tf.int32, shape=(None,None), name=\"targets\")\n",
      "    learning_rate = tf.placeholder(tf.float32, shape=None, name=\"learing_rate\")\n",
      "    keep_probability = tf.placeholder(tf.float32, shape=None, name=\"keep_prob\")\n",
      "    return text_input, targets, learning_rate, keep_probability\n",
      "\n",
      "\"\"\"\n",
      "DON'T MODIFY ANYTHING IN THIS CELL THAT IS BELOW THIS LINE\n",
      "\"\"\"\n",
      "tests.test_model_inputs(model_inputs)"
     ],
     "language": "python",
     "metadata": {
      "deletable": true,
      "editable": true
     },
     "outputs": [
      {
       "output_type": "stream",
       "stream": "stdout",
       "text": [
        "Tests Passed\n"
       ]
      }
     ],
     "prompt_number": 3
    },
    {
     "cell_type": "markdown",
     "metadata": {
      "deletable": true,
      "editable": true
     },
     "source": [
      "### Process Decoding Input\n",
      "Implement `process_decoding_input` using TensorFlow to remove the last word id from each batch in `target_data` and concat the GO ID to the beginning of each batch."
     ]
    },
    {
     "cell_type": "code",
     "collapsed": false,
     "input": [
      "def process_decoding_input(target_data, target_vocab_to_int, batch_size):\n",
      "    \"\"\"\n",
      "    Preprocess target data for decoding\n",
      "    :param target_data: Target Placeholder\n",
      "    :param target_vocab_to_int: Dictionary to go from the target words to an id\n",
      "    :param batch_size: Batch Size\n",
      "    :return: Preprocessed target data\n",
      "    \"\"\"\n",
      "    start = [0, 0]\n",
      "    end = [batch_size, -1]\n",
      "    strides = [1, 1]\n",
      "    go = target_vocab_to_int['<GO>']\n",
      "    slices = tf.strided_slice(target_data, start, end, strides=strides)\n",
      "    head = tf.fill([batch_size, 1], go)\n",
      "    return tf.concat([head, slices], 1)\n",
      "\n",
      "\"\"\"\n",
      "DON'T MODIFY ANYTHING IN THIS CELL THAT IS BELOW THIS LINE\n",
      "\"\"\"\n",
      "tests.test_process_decoding_input(process_decoding_input)"
     ],
     "language": "python",
     "metadata": {
      "deletable": true,
      "editable": true
     },
     "outputs": [
      {
       "output_type": "stream",
       "stream": "stdout",
       "text": [
        "Tests Passed\n"
       ]
      }
     ],
     "prompt_number": 4
    },
    {
     "cell_type": "markdown",
     "metadata": {
      "deletable": true,
      "editable": true
     },
     "source": [
      "### Encoding\n",
      "Implement `encoding_layer()` to create a Encoder RNN layer using [`tf.nn.dynamic_rnn()`](https://www.tensorflow.org/api_docs/python/tf/nn/dynamic_rnn)."
     ]
    },
    {
     "cell_type": "code",
     "collapsed": false,
     "input": [
      "def encoding_layer(rnn_inputs, rnn_size, num_layers, keep_prob):\n",
      "    \"\"\"\n",
      "    Create encoding layer\n",
      "    :param rnn_inputs: Inputs for the RNN\n",
      "    :param rnn_size: RNN Size\n",
      "    :param num_layers: Number of layers\n",
      "    :param keep_prob: Dropout keep probability\n",
      "    :return: RNN state\n",
      "    \"\"\"\n",
      "    lstms = [tf.contrib.rnn.BasicLSTMCell(rnn_size) for _ in range(num_layers)]\n",
      "    cell = tf.contrib.rnn.MultiRNNCell(lstms)\n",
      "    dropped = tf.contrib.rnn.DropoutWrapper(cell, input_keep_prob=keep_prob, output_keep_prob=keep_prob)\n",
      "    _, state = tf.nn.dynamic_rnn(dropped, rnn_inputs, dtype=tf.float32)\n",
      "    return state\n",
      "\n",
      "\"\"\"\n",
      "DON'T MODIFY ANYTHING IN THIS CELL THAT IS BELOW THIS LINE\n",
      "\"\"\"\n",
      "tests.test_encoding_layer(encoding_layer)"
     ],
     "language": "python",
     "metadata": {
      "deletable": true,
      "editable": true
     },
     "outputs": [
      {
       "output_type": "stream",
       "stream": "stdout",
       "text": [
        "Tests Passed\n"
       ]
      }
     ],
     "prompt_number": 5
    },
    {
     "cell_type": "markdown",
     "metadata": {
      "deletable": true,
      "editable": true
     },
     "source": [
      "### Decoding - Training\n",
      "Create training logits using [`tf.contrib.seq2seq.simple_decoder_fn_train()`](https://www.tensorflow.org/versions/r1.0/api_docs/python/tf/contrib/seq2seq/simple_decoder_fn_train) and [`tf.contrib.seq2seq.dynamic_rnn_decoder()`](https://www.tensorflow.org/versions/r1.0/api_docs/python/tf/contrib/seq2seq/dynamic_rnn_decoder).  Apply the `output_fn` to the [`tf.contrib.seq2seq.dynamic_rnn_decoder()`](https://www.tensorflow.org/versions/r1.0/api_docs/python/tf/contrib/seq2seq/dynamic_rnn_decoder) outputs."
     ]
    },
    {
     "cell_type": "code",
     "collapsed": false,
     "input": [
      "def decoding_layer_train(encoder_state, dec_cell, dec_embed_input, sequence_length, decoding_scope,\n",
      "                         output_fn, keep_prob):\n",
      "    \"\"\"\n",
      "    Create a decoding layer for training\n",
      "    :param encoder_state: Encoder State\n",
      "    :param dec_cell: Decoder RNN Cell\n",
      "    :param dec_embed_input: Decoder embedded input\n",
      "    :param sequence_length: Sequence Length\n",
      "    :param decoding_scope: TenorFlow Variable Scope for decoding\n",
      "    :param output_fn: Function to apply the output layer\n",
      "    :param keep_prob: Dropout keep probability\n",
      "    :return: Train Logits\n",
      "    \"\"\"\n",
      "    train_decoder_fn = tf.contrib.seq2seq.simple_decoder_fn_train(encoder_state)\n",
      "    preds, _, _ = tf.contrib.seq2seq.dynamic_rnn_decoder(\n",
      "        dec_cell, train_decoder_fn, dec_embed_input, sequence_length, scope=decoding_scope)\n",
      "    logits = output_fn(preds)\n",
      "    return logits\n",
      "\n",
      "\"\"\"\n",
      "DON'T MODIFY ANYTHING IN THIS CELL THAT IS BELOW THIS LINE\n",
      "\"\"\"\n",
      "tests.test_decoding_layer_train(decoding_layer_train)"
     ],
     "language": "python",
     "metadata": {
      "deletable": true,
      "editable": true
     },
     "outputs": [
      {
       "output_type": "stream",
       "stream": "stdout",
       "text": [
        "Tests Passed\n"
       ]
      }
     ],
     "prompt_number": 6
    },
    {
     "cell_type": "markdown",
     "metadata": {
      "deletable": true,
      "editable": true
     },
     "source": [
      "### Decoding - Inference\n",
      "Create inference logits using [`tf.contrib.seq2seq.simple_decoder_fn_inference()`](https://www.tensorflow.org/versions/r1.0/api_docs/python/tf/contrib/seq2seq/simple_decoder_fn_inference) and [`tf.contrib.seq2seq.dynamic_rnn_decoder()`](https://www.tensorflow.org/versions/r1.0/api_docs/python/tf/contrib/seq2seq/dynamic_rnn_decoder). "
     ]
    },
    {
     "cell_type": "code",
     "collapsed": false,
     "input": [
      "def decoding_layer_infer(encoder_state, dec_cell, dec_embeddings, start_of_sequence_id, end_of_sequence_id,\n",
      "                         maximum_length, vocab_size, decoding_scope, output_fn, keep_prob):\n",
      "    \"\"\"\n",
      "    Create a decoding layer for inference\n",
      "    :param encoder_state: Encoder state\n",
      "    :param dec_cell: Decoder RNN Cell\n",
      "    :param dec_embeddings: Decoder embeddings\n",
      "    :param start_of_sequence_id: GO ID\n",
      "    :param end_of_sequence_id: EOS Id\n",
      "    :param maximum_length: The maximum allowed time steps to decode\n",
      "    :param vocab_size: Size of vocabulary\n",
      "    :param decoding_scope: TensorFlow Variable Scope for decoding\n",
      "    :param output_fn: Function to apply the output layer\n",
      "    :param keep_prob: Dropout keep probability\n",
      "    :return: Inference Logits\n",
      "    \"\"\"\n",
      "    dynamic_fn_inference = tf.contrib.seq2seq.simple_decoder_fn_inference(\n",
      "        output_fn=output_fn, encoder_state=encoder_state,\n",
      "        embeddings=dec_embeddings,\n",
      "        start_of_sequence_id=start_of_sequence_id, end_of_sequence_id=end_of_sequence_id,\n",
      "        maximum_length=maximum_length, num_decoder_symbols=vocab_size, dtype=tf.int32)\n",
      "    \n",
      "    outputs_inference, _, _ = tf.contrib.seq2seq.dynamic_rnn_decoder(\n",
      "        decoder_fn=dynamic_fn_inference, cell=dec_cell, scope=decoding_scope)\n",
      "    return outputs_inference\n",
      "\n",
      "\"\"\"\n",
      "DON'T MODIFY ANYTHING IN THIS CELL THAT IS BELOW THIS LINE\n",
      "\"\"\"\n",
      "tests.test_decoding_layer_infer(decoding_layer_infer)"
     ],
     "language": "python",
     "metadata": {
      "deletable": true,
      "editable": true
     },
     "outputs": [
      {
       "output_type": "stream",
       "stream": "stdout",
       "text": [
        "Tests Passed\n"
       ]
      }
     ],
     "prompt_number": 7
    },
    {
     "cell_type": "markdown",
     "metadata": {
      "deletable": true,
      "editable": true
     },
     "source": [
      "### Build the Decoding Layer\n",
      "Implement `decoding_layer()` to create a Decoder RNN layer.\n",
      "\n",
      "- Create RNN cell for decoding using `rnn_size` and `num_layers`.\n",
      "- Create the output fuction using [`lambda`](https://docs.python.org/3/tutorial/controlflow.html#lambda-expressions) to transform it's input, logits, to class logits.\n",
      "- Use the your `decoding_layer_train(encoder_state, dec_cell, dec_embed_input, sequence_length, decoding_scope, output_fn, keep_prob)` function to get the training logits.\n",
      "- Use your `decoding_layer_infer(encoder_state, dec_cell, dec_embeddings, start_of_sequence_id, end_of_sequence_id, maximum_length, vocab_size, decoding_scope, output_fn, keep_prob)` function to get the inference logits.\n",
      "\n",
      "Note: You'll need to use [tf.variable_scope](https://www.tensorflow.org/api_docs/python/tf/variable_scope) to share variables between training and inference."
     ]
    },
    {
     "cell_type": "code",
     "collapsed": false,
     "input": [
      "def decoding_layer(dec_embed_input, dec_embeddings, encoder_state, vocab_size, sequence_length, rnn_size,\n",
      "                   num_layers, target_vocab_to_int, keep_prob):\n",
      "    \"\"\"\n",
      "    Create decoding layer\n",
      "    :param dec_embed_input: Decoder embedded input\n",
      "    :param dec_embeddings: Decoder embeddings\n",
      "    :param encoder_state: The encoded state\n",
      "    :param vocab_size: Size of vocabulary\n",
      "    :param sequence_length: Sequence Length\n",
      "    :param rnn_size: RNN Size\n",
      "    :param num_layers: Number of layers\n",
      "    :param target_vocab_to_int: Dictionary to go from the target words to an id\n",
      "    :param keep_prob: Dropout keep probability\n",
      "    :return: Tuple of (Training Logits, Inference Logits)\n",
      "    \"\"\"\n",
      "    with tf.variable_scope(\"decoding_scope\") as varscope:\n",
      "        decoder_cell = tf.contrib.rnn.MultiRNNCell([tf.contrib.rnn.BasicLSTMCell(rnn_size)] * num_layers)\n",
      "        dropped = tf.contrib.rnn.DropoutWrapper(decoder_cell, input_keep_prob=keep_prob, output_keep_prob=keep_prob)\n",
      "        output_fn = lambda x: tf.contrib.layers.fully_connected(x, vocab_size, None, scope=varscope)\n",
      "        train_logits = decoding_layer_train(encoder_state, dropped, dec_embed_input, sequence_length,\n",
      "                varscope, output_fn, keep_prob)\n",
      "    with tf.variable_scope('decoding_scope', reuse=True) as varscope:\n",
      "        infer_logits = decoding_layer_infer(encoder_state, dropped, dec_embeddings,\n",
      "                target_vocab_to_int['<GO>'], target_vocab_to_int['<EOS>'],\n",
      "                sequence_length - 1, vocab_size, varscope, output_fn, keep_prob)\n",
      "    return train_logits, infer_logits\n",
      "\n",
      "\n",
      "\"\"\"\n",
      "DON'T MODIFY ANYTHING IN THIS CELL THAT IS BELOW THIS LINE\n",
      "\"\"\"\n",
      "tests.test_decoding_layer(decoding_layer)"
     ],
     "language": "python",
     "metadata": {
      "deletable": true,
      "editable": true
     },
     "outputs": [
      {
       "output_type": "stream",
       "stream": "stdout",
       "text": [
        "Tests Passed\n"
       ]
      }
     ],
     "prompt_number": 8
    },
    {
     "cell_type": "markdown",
     "metadata": {
      "deletable": true,
      "editable": true
     },
     "source": [
      "### Build the Neural Network\n",
      "Apply the functions you implemented above to:\n",
      "\n",
      "- Apply embedding to the input data for the encoder.\n",
      "- Encode the input using your `encoding_layer(rnn_inputs, rnn_size, num_layers, keep_prob)`.\n",
      "- Process target data using your `process_decoding_input(target_data, target_vocab_to_int, batch_size)` function.\n",
      "- Apply embedding to the target data for the decoder.\n",
      "- Decode the encoded input using your `decoding_layer(dec_embed_input, dec_embeddings, encoder_state, vocab_size, sequence_length, rnn_size, num_layers, target_vocab_to_int, keep_prob)`."
     ]
    },
    {
     "cell_type": "code",
     "collapsed": false,
     "input": [
      "def seq2seq_model(input_data, target_data, keep_prob, batch_size, sequence_length, source_vocab_size, target_vocab_size,\n",
      "                  enc_embedding_size, dec_embedding_size, rnn_size, num_layers, target_vocab_to_int):\n",
      "    \"\"\"\n",
      "    Build the Sequence-to-Sequence part of the neural network\n",
      "    :param input_data: Input placeholder\n",
      "    :param target_data: Target placeholder\n",
      "    :param keep_prob: Dropout keep probability placeholder\n",
      "    :param batch_size: Batch Size\n",
      "    :param sequence_length: Sequence Length\n",
      "    :param source_vocab_size: Source vocabulary size\n",
      "    :param target_vocab_size: Target vocabulary size\n",
      "    :param enc_embedding_size: Decoder embedding size\n",
      "    :param dec_embedding_size: Encoder embedding size\n",
      "    :param rnn_size: RNN Size\n",
      "    :param num_layers: Number of layers\n",
      "    :param target_vocab_to_int: Dictionary to go from the target words to an id\n",
      "    :return: Tuple of (Training Logits, Inference Logits)\n",
      "    \"\"\"\n",
      "    encoding_inputs = tf.contrib.layers.embed_sequence(input_data, source_vocab_size, enc_embedding_size)\n",
      "    encoding_state = encoding_layer(encoding_inputs, rnn_size, num_layers, keep_prob)\n",
      "    \n",
      "    decoding_embeddings = tf.Variable(tf.truncated_normal([target_vocab_size, dec_embedding_size], stddev=0.01))\n",
      "    decoding_inputs = process_decoding_input(target_data, target_vocab_to_int, batch_size)\n",
      "    decoding_embed_lookups = tf.nn.embedding_lookup(decoding_embeddings, decoding_inputs)\n",
      "    \n",
      "    train_logits, infer_logits = decoding_layer(decoding_embed_lookups,\n",
      "            decoding_embeddings, encoding_state, target_vocab_size,\n",
      "            sequence_length, rnn_size, num_layers,\n",
      "            target_vocab_to_int, keep_prob)\n",
      "    return train_logits, infer_logits\n",
      "\n",
      "\n",
      "\"\"\"\n",
      "DON'T MODIFY ANYTHING IN THIS CELL THAT IS BELOW THIS LINE\n",
      "\"\"\"\n",
      "tests.test_seq2seq_model(seq2seq_model)"
     ],
     "language": "python",
     "metadata": {
      "deletable": true,
      "editable": true
     },
     "outputs": [
      {
       "output_type": "stream",
       "stream": "stdout",
       "text": [
        "Tests Passed\n"
       ]
      }
     ],
     "prompt_number": 9
    },
    {
     "cell_type": "markdown",
     "metadata": {
      "deletable": true,
      "editable": true
     },
     "source": [
      "## Neural Network Training\n",
      "### Hyperparameters\n",
      "Tune the following parameters:\n",
      "\n",
      "- Set `epochs` to the number of epochs.\n",
      "- Set `batch_size` to the batch size.\n",
      "- Set `rnn_size` to the size of the RNNs.\n",
      "- Set `num_layers` to the number of layers.\n",
      "- Set `encoding_embedding_size` to the size of the embedding for the encoder.\n",
      "- Set `decoding_embedding_size` to the size of the embedding for the decoder.\n",
      "- Set `learning_rate` to the learning rate.\n",
      "- Set `keep_probability` to the Dropout keep probability"
     ]
    },
    {
     "cell_type": "code",
     "collapsed": true,
     "input": [
      "# Number of Epochs\n",
      "epochs = 5\n",
      "# Batch Size\n",
      "batch_size = 256\n",
      "# RNN Size\n",
      "rnn_size = 512\n",
      "# Number of Layers\n",
      "num_layers = 3\n",
      "# Embedding Size\n",
      "encoding_embedding_size = 200\n",
      "decoding_embedding_size = 200\n",
      "# Learning Rate\n",
      "learning_rate = 0.001\n",
      "# Dropout Keep Probability\n",
      "keep_probability = 0.5\n",
      "# update every X runs\n",
      "update_frequency = 10"
     ],
     "language": "python",
     "metadata": {
      "deletable": true,
      "editable": true
     },
     "outputs": [],
     "prompt_number": 36
    },
    {
     "cell_type": "markdown",
     "metadata": {
      "deletable": true,
      "editable": true
     },
     "source": [
      "### Build the Graph\n",
      "Build the graph using the neural network you implemented."
     ]
    },
    {
     "cell_type": "code",
     "collapsed": false,
     "input": [
      "\"\"\"\n",
      "DON'T MODIFY ANYTHING IN THIS CELL\n",
      "\"\"\"\n",
      "save_path = 'checkpoints/dev'\n",
      "(source_int_text, target_int_text), (source_vocab_to_int, target_vocab_to_int), _ = helper.load_preprocess()\n",
      "max_source_sentence_length = max([len(sentence) for sentence in source_int_text])\n",
      "\n",
      "train_graph = tf.Graph()\n",
      "with train_graph.as_default():\n",
      "    input_data, targets, lr, keep_prob = model_inputs()\n",
      "    sequence_length = tf.placeholder_with_default(max_source_sentence_length, None, name='sequence_length')\n",
      "    input_shape = tf.shape(input_data)\n",
      "    \n",
      "    train_logits, inference_logits = seq2seq_model(\n",
      "        tf.reverse(input_data, [-1]), targets, keep_prob, batch_size, sequence_length, len(source_vocab_to_int), len(target_vocab_to_int),\n",
      "        encoding_embedding_size, decoding_embedding_size, rnn_size, num_layers, target_vocab_to_int)\n",
      "\n",
      "    tf.identity(inference_logits, 'logits')\n",
      "    with tf.name_scope(\"optimization\"):\n",
      "        # Loss function\n",
      "        cost = tf.contrib.seq2seq.sequence_loss(\n",
      "            train_logits,\n",
      "            targets,\n",
      "            tf.ones([input_shape[0], sequence_length]))\n",
      "\n",
      "        # Optimizer\n",
      "        optimizer = tf.train.AdamOptimizer(lr)\n",
      "\n",
      "        # Gradient Clipping\n",
      "        gradients = optimizer.compute_gradients(cost)\n",
      "        capped_gradients = [(tf.clip_by_value(grad, -1., 1.), var) for grad, var in gradients if grad is not None]\n",
      "        train_op = optimizer.apply_gradients(capped_gradients)"
     ],
     "language": "python",
     "metadata": {
      "deletable": true,
      "editable": true
     },
     "outputs": [],
     "prompt_number": 37
    },
    {
     "cell_type": "markdown",
     "metadata": {
      "deletable": true,
      "editable": true
     },
     "source": [
      "### Train\n",
      "Train the neural network on the preprocessed data. If you have a hard time getting a good loss, check the forums to see if anyone is having the same problem."
     ]
    },
    {
     "cell_type": "code",
     "collapsed": false,
     "input": [
      "\"\"\"\n",
      "DON'T MODIFY ANYTHING IN THIS CELL\n",
      "\"\"\"\n",
      "import time\n",
      "\n",
      "def get_accuracy(target, logits):\n",
      "    \"\"\"\n",
      "    Calculate accuracy\n",
      "    \"\"\"\n",
      "    max_seq = max(target.shape[1], logits.shape[1])\n",
      "    if max_seq - target.shape[1]:\n",
      "        target = np.pad(\n",
      "            target,\n",
      "            [(0,0),(0,max_seq - target.shape[1])],\n",
      "            'constant')\n",
      "    if max_seq - logits.shape[1]:\n",
      "        logits = np.pad(\n",
      "            logits,\n",
      "            [(0,0),(0,max_seq - logits.shape[1]), (0,0)],\n",
      "            'constant')\n",
      "    #print(\"target shape:\", target.shape, \"logits shape:\", logits.shape)\n",
      "    return np.mean(np.equal(target, np.argmax(logits, 2)))\n",
      "\n",
      "train_source = source_int_text[batch_size:]\n",
      "train_target = target_int_text[batch_size:]\n",
      "\n",
      "valid_source = helper.pad_sentence_batch(source_int_text[:batch_size])\n",
      "valid_target = helper.pad_sentence_batch(target_int_text[:batch_size])\n",
      "\n",
      "count = 0\n",
      "with tf.Session(graph=train_graph) as sess:\n",
      "    sess.run(tf.global_variables_initializer())\n",
      "\n",
      "    for epoch_i in range(epochs):\n",
      "        for batch_i, (source_batch, target_batch) in enumerate(\n",
      "                helper.batch_data(train_source, train_target, batch_size)):\n",
      "            start_time = time.time()\n",
      "            count += 1\n",
      "            \n",
      "            #print(source_batch.shape)\n",
      "            #print(target_batch.shape)\n",
      "            \n",
      "            _, loss = sess.run(\n",
      "                [train_op, cost],\n",
      "                {input_data: source_batch,\n",
      "                 targets: target_batch,\n",
      "                 lr: learning_rate,\n",
      "                 sequence_length: target_batch.shape[1],\n",
      "                 keep_prob: keep_probability})\n",
      "            \n",
      "            batch_train_logits = sess.run(\n",
      "                inference_logits,\n",
      "                {input_data: source_batch, keep_prob: 1.0})\n",
      "            batch_valid_logits = sess.run(\n",
      "                inference_logits,\n",
      "                {input_data: valid_source, keep_prob: 1.0})\n",
      "            \n",
      "            #print(source_batch.shape, target_batch.shape, batch_train_logits.shape)\n",
      "            train_acc = get_accuracy(target_batch, batch_train_logits)\n",
      "            valid_acc = get_accuracy(np.array(valid_target), batch_valid_logits)\n",
      "            end_time = time.time()\n",
      "            if count % update_frequency == 0:\n",
      "                print('Epoch {:>3} Batch {:>4}/{} - Train Accuracy: {:>6.3f}, Validation Accuracy: {:>6.3f}, Loss: {:>6.3f}'\n",
      "                      .format(epoch_i, batch_i, len(source_int_text) // batch_size, train_acc, valid_acc, loss))\n",
      "\n",
      "    # Save Model\n",
      "    saver = tf.train.Saver()\n",
      "    saver.save(sess, save_path)\n",
      "    print('Model Trained and Saved')"
     ],
     "language": "python",
     "metadata": {
      "deletable": true,
      "editable": true,
      "scrolled": true
     },
     "outputs": [
      {
       "output_type": "stream",
       "stream": "stdout",
       "text": [
        "Epoch   0 Batch    9/538 - Train Accuracy:  0.329, Validation Accuracy:  0.391, Loss:  3.463\n",
        "Epoch   0 Batch   19/538 - Train Accuracy:  0.343, Validation Accuracy:  0.414, Loss:  3.131"
       ]
      },
      {
       "output_type": "stream",
       "stream": "stdout",
       "text": [
        "\n",
        "Epoch   0 Batch   29/538 - Train Accuracy:  0.400, Validation Accuracy:  0.442, Loss:  2.642"
       ]
      },
      {
       "output_type": "stream",
       "stream": "stdout",
       "text": [
        "\n",
        "Epoch   0 Batch   39/538 - Train Accuracy:  0.408, Validation Accuracy:  0.469, Loss:  2.569"
       ]
      },
      {
       "output_type": "stream",
       "stream": "stdout",
       "text": [
        "\n",
        "Epoch   0 Batch   49/538 - Train Accuracy:  0.419, Validation Accuracy:  0.485, Loss:  2.409"
       ]
      },
      {
       "output_type": "stream",
       "stream": "stdout",
       "text": [
        "\n",
        "Epoch   0 Batch   59/538 - Train Accuracy:  0.392, Validation Accuracy:  0.466, Loss:  2.258"
       ]
      },
      {
       "output_type": "stream",
       "stream": "stdout",
       "text": [
        "\n",
        "Epoch   0 Batch   69/538 - Train Accuracy:  0.416, Validation Accuracy:  0.479, Loss:  2.138"
       ]
      },
      {
       "output_type": "stream",
       "stream": "stdout",
       "text": [
        "\n",
        "Epoch   0 Batch   79/538 - Train Accuracy:  0.438, Validation Accuracy:  0.474, Loss:  1.963"
       ]
      },
      {
       "output_type": "stream",
       "stream": "stdout",
       "text": [
        "\n",
        "Epoch   0 Batch   89/538 - Train Accuracy:  0.447, Validation Accuracy:  0.491, Loss:  1.916"
       ]
      },
      {
       "output_type": "stream",
       "stream": "stdout",
       "text": [
        "\n",
        "Epoch   0 Batch   99/538 - Train Accuracy:  0.455, Validation Accuracy:  0.507, Loss:  1.825"
       ]
      },
      {
       "output_type": "stream",
       "stream": "stdout",
       "text": [
        "\n",
        "Epoch   0 Batch  109/538 - Train Accuracy:  0.448, Validation Accuracy:  0.496, Loss:  1.679"
       ]
      },
      {
       "output_type": "stream",
       "stream": "stdout",
       "text": [
        "\n",
        "Epoch   0 Batch  119/538 - Train Accuracy:  0.485, Validation Accuracy:  0.501, Loss:  1.620"
       ]
      },
      {
       "output_type": "stream",
       "stream": "stdout",
       "text": [
        "\n",
        "Epoch   0 Batch  129/538 - Train Accuracy:  0.475, Validation Accuracy:  0.520, Loss:  1.513"
       ]
      },
      {
       "output_type": "stream",
       "stream": "stdout",
       "text": [
        "\n",
        "Epoch   0 Batch  139/538 - Train Accuracy:  0.464, Validation Accuracy:  0.511, Loss:  1.578"
       ]
      },
      {
       "output_type": "stream",
       "stream": "stdout",
       "text": [
        "\n",
        "Epoch   0 Batch  149/538 - Train Accuracy:  0.433, Validation Accuracy:  0.491, Loss:  1.418"
       ]
      },
      {
       "output_type": "stream",
       "stream": "stdout",
       "text": [
        "\n",
        "Epoch   0 Batch  159/538 - Train Accuracy:  0.489, Validation Accuracy:  0.518, Loss:  1.386"
       ]
      },
      {
       "output_type": "stream",
       "stream": "stdout",
       "text": [
        "\n",
        "Epoch   0 Batch  169/538 - Train Accuracy:  0.483, Validation Accuracy:  0.518, Loss:  1.289"
       ]
      },
      {
       "output_type": "stream",
       "stream": "stdout",
       "text": [
        "\n",
        "Epoch   0 Batch  179/538 - Train Accuracy:  0.462, Validation Accuracy:  0.500, Loss:  1.266"
       ]
      },
      {
       "output_type": "stream",
       "stream": "stdout",
       "text": [
        "\n",
        "Epoch   0 Batch  189/538 - Train Accuracy:  0.486, Validation Accuracy:  0.507, Loss:  1.214"
       ]
      },
      {
       "output_type": "stream",
       "stream": "stdout",
       "text": [
        "\n",
        "Epoch   0 Batch  199/538 - Train Accuracy:  0.436, Validation Accuracy:  0.508, Loss:  1.222"
       ]
      },
      {
       "output_type": "stream",
       "stream": "stdout",
       "text": [
        "\n",
        "Epoch   0 Batch  209/538 - Train Accuracy:  0.434, Validation Accuracy:  0.480, Loss:  1.131"
       ]
      },
      {
       "output_type": "stream",
       "stream": "stdout",
       "text": [
        "\n",
        "Epoch   0 Batch  219/538 - Train Accuracy:  0.464, Validation Accuracy:  0.498, Loss:  1.117"
       ]
      },
      {
       "output_type": "stream",
       "stream": "stdout",
       "text": [
        "\n",
        "Epoch   0 Batch  229/538 - Train Accuracy:  0.452, Validation Accuracy:  0.494, Loss:  1.028"
       ]
      },
      {
       "output_type": "stream",
       "stream": "stdout",
       "text": [
        "\n",
        "Epoch   0 Batch  239/538 - Train Accuracy:  0.473, Validation Accuracy:  0.524, Loss:  1.056"
       ]
      },
      {
       "output_type": "stream",
       "stream": "stdout",
       "text": [
        "\n",
        "Epoch   0 Batch  249/538 - Train Accuracy:  0.480, Validation Accuracy:  0.523, Loss:  0.935"
       ]
      },
      {
       "output_type": "stream",
       "stream": "stdout",
       "text": [
        "\n",
        "Epoch   0 Batch  259/538 - Train Accuracy:  0.505, Validation Accuracy:  0.500, Loss:  0.932"
       ]
      },
      {
       "output_type": "stream",
       "stream": "stdout",
       "text": [
        "\n",
        "Epoch   0 Batch  269/538 - Train Accuracy:  0.472, Validation Accuracy:  0.536, Loss:  0.937"
       ]
      },
      {
       "output_type": "stream",
       "stream": "stdout",
       "text": [
        "\n",
        "Epoch   0 Batch  279/538 - Train Accuracy:  0.492, Validation Accuracy:  0.516, Loss:  0.895"
       ]
      },
      {
       "output_type": "stream",
       "stream": "stdout",
       "text": [
        "\n",
        "Epoch   0 Batch  289/538 - Train Accuracy:  0.548, Validation Accuracy:  0.538, Loss:  0.811"
       ]
      },
      {
       "output_type": "stream",
       "stream": "stdout",
       "text": [
        "\n",
        "Epoch   0 Batch  299/538 - Train Accuracy:  0.517, Validation Accuracy:  0.531, Loss:  0.859"
       ]
      },
      {
       "output_type": "stream",
       "stream": "stdout",
       "text": [
        "\n",
        "Epoch   0 Batch  309/538 - Train Accuracy:  0.485, Validation Accuracy:  0.534, Loss:  0.841"
       ]
      },
      {
       "output_type": "stream",
       "stream": "stdout",
       "text": [
        "\n",
        "Epoch   0 Batch  319/538 - Train Accuracy:  0.543, Validation Accuracy:  0.554, Loss:  0.814"
       ]
      },
      {
       "output_type": "stream",
       "stream": "stdout",
       "text": [
        "\n",
        "Epoch   0 Batch  329/538 - Train Accuracy:  0.541, Validation Accuracy:  0.543, Loss:  0.774"
       ]
      },
      {
       "output_type": "stream",
       "stream": "stdout",
       "text": [
        "\n",
        "Epoch   0 Batch  339/538 - Train Accuracy:  0.572, Validation Accuracy:  0.577, Loss:  0.785"
       ]
      },
      {
       "output_type": "stream",
       "stream": "stdout",
       "text": [
        "\n",
        "Epoch   0 Batch  349/538 - Train Accuracy:  0.537, Validation Accuracy:  0.584, Loss:  0.775"
       ]
      },
      {
       "output_type": "stream",
       "stream": "stdout",
       "text": [
        "\n",
        "Epoch   0 Batch  359/538 - Train Accuracy:  0.583, Validation Accuracy:  0.587, Loss:  0.760"
       ]
      },
      {
       "output_type": "stream",
       "stream": "stdout",
       "text": [
        "\n",
        "Epoch   0 Batch  369/538 - Train Accuracy:  0.571, Validation Accuracy:  0.591, Loss:  0.756"
       ]
      },
      {
       "output_type": "stream",
       "stream": "stdout",
       "text": [
        "\n",
        "Epoch   0 Batch  379/538 - Train Accuracy:  0.604, Validation Accuracy:  0.598, Loss:  0.721"
       ]
      },
      {
       "output_type": "stream",
       "stream": "stdout",
       "text": [
        "\n",
        "Epoch   0 Batch  389/538 - Train Accuracy:  0.564, Validation Accuracy:  0.585, Loss:  0.783"
       ]
      },
      {
       "output_type": "stream",
       "stream": "stdout",
       "text": [
        "\n",
        "Epoch   0 Batch  399/538 - Train Accuracy:  0.561, Validation Accuracy:  0.600, Loss:  0.759"
       ]
      },
      {
       "output_type": "stream",
       "stream": "stdout",
       "text": [
        "\n",
        "Epoch   0 Batch  409/538 - Train Accuracy:  0.565, Validation Accuracy:  0.601, Loss:  0.725"
       ]
      },
      {
       "output_type": "stream",
       "stream": "stdout",
       "text": [
        "\n",
        "Epoch   0 Batch  419/538 - Train Accuracy:  0.598, Validation Accuracy:  0.608, Loss:  0.688"
       ]
      },
      {
       "output_type": "stream",
       "stream": "stdout",
       "text": [
        "\n",
        "Epoch   0 Batch  429/538 - Train Accuracy:  0.605, Validation Accuracy:  0.606, Loss:  0.695"
       ]
      },
      {
       "output_type": "stream",
       "stream": "stdout",
       "text": [
        "\n",
        "Epoch   0 Batch  439/538 - Train Accuracy:  0.606, Validation Accuracy:  0.605, Loss:  0.673"
       ]
      },
      {
       "output_type": "stream",
       "stream": "stdout",
       "text": [
        "\n",
        "Epoch   0 Batch  449/538 - Train Accuracy:  0.585, Validation Accuracy:  0.608, Loss:  0.712"
       ]
      },
      {
       "output_type": "stream",
       "stream": "stdout",
       "text": [
        "\n",
        "Epoch   0 Batch  459/538 - Train Accuracy:  0.606, Validation Accuracy:  0.607, Loss:  0.673"
       ]
      },
      {
       "output_type": "stream",
       "stream": "stdout",
       "text": [
        "\n",
        "Epoch   0 Batch  469/538 - Train Accuracy:  0.591, Validation Accuracy:  0.607, Loss:  0.680"
       ]
      },
      {
       "output_type": "stream",
       "stream": "stdout",
       "text": [
        "\n",
        "Epoch   0 Batch  479/538 - Train Accuracy:  0.620, Validation Accuracy:  0.607, Loss:  0.621"
       ]
      },
      {
       "output_type": "stream",
       "stream": "stdout",
       "text": [
        "\n",
        "Epoch   0 Batch  489/538 - Train Accuracy:  0.603, Validation Accuracy:  0.618, Loss:  0.654"
       ]
      },
      {
       "output_type": "stream",
       "stream": "stdout",
       "text": [
        "\n",
        "Epoch   0 Batch  499/538 - Train Accuracy:  0.635, Validation Accuracy:  0.615, Loss:  0.612"
       ]
      },
      {
       "output_type": "stream",
       "stream": "stdout",
       "text": [
        "\n",
        "Epoch   0 Batch  509/538 - Train Accuracy:  0.588, Validation Accuracy:  0.618, Loss:  0.644"
       ]
      },
      {
       "output_type": "stream",
       "stream": "stdout",
       "text": [
        "\n",
        "Epoch   0 Batch  519/538 - Train Accuracy:  0.640, Validation Accuracy:  0.617, Loss:  0.611"
       ]
      },
      {
       "output_type": "stream",
       "stream": "stdout",
       "text": [
        "\n",
        "Epoch   0 Batch  529/538 - Train Accuracy:  0.591, Validation Accuracy:  0.620, Loss:  0.622"
       ]
      },
      {
       "output_type": "stream",
       "stream": "stdout",
       "text": [
        "\n",
        "Epoch   1 Batch    2/538 - Train Accuracy:  0.588, Validation Accuracy:  0.628, Loss:  0.631"
       ]
      },
      {
       "output_type": "stream",
       "stream": "stdout",
       "text": [
        "\n",
        "Epoch   1 Batch   12/538 - Train Accuracy:  0.593, Validation Accuracy:  0.632, Loss:  0.612"
       ]
      },
      {
       "output_type": "stream",
       "stream": "stdout",
       "text": [
        "\n",
        "Epoch   1 Batch   22/538 - Train Accuracy:  0.613, Validation Accuracy:  0.635, Loss:  0.617"
       ]
      },
      {
       "output_type": "stream",
       "stream": "stdout",
       "text": [
        "\n",
        "Epoch   1 Batch   32/538 - Train Accuracy:  0.619, Validation Accuracy:  0.630, Loss:  0.567"
       ]
      },
      {
       "output_type": "stream",
       "stream": "stdout",
       "text": [
        "\n",
        "Epoch   1 Batch   42/538 - Train Accuracy:  0.640, Validation Accuracy:  0.641, Loss:  0.587"
       ]
      },
      {
       "output_type": "stream",
       "stream": "stdout",
       "text": [
        "\n",
        "Epoch   1 Batch   52/538 - Train Accuracy:  0.620, Validation Accuracy:  0.640, Loss:  0.595"
       ]
      },
      {
       "output_type": "stream",
       "stream": "stdout",
       "text": [
        "\n",
        "Epoch   1 Batch   62/538 - Train Accuracy:  0.634, Validation Accuracy:  0.640, Loss:  0.552"
       ]
      },
      {
       "output_type": "stream",
       "stream": "stdout",
       "text": [
        "\n",
        "Epoch   1 Batch   72/538 - Train Accuracy:  0.664, Validation Accuracy:  0.639, Loss:  0.576"
       ]
      },
      {
       "output_type": "stream",
       "stream": "stdout",
       "text": [
        "\n",
        "Epoch   1 Batch   82/538 - Train Accuracy:  0.620, Validation Accuracy:  0.646, Loss:  0.555"
       ]
      },
      {
       "output_type": "stream",
       "stream": "stdout",
       "text": [
        "\n",
        "Epoch   1 Batch   92/538 - Train Accuracy:  0.611, Validation Accuracy:  0.638, Loss:  0.556"
       ]
      },
      {
       "output_type": "stream",
       "stream": "stdout",
       "text": [
        "\n",
        "Epoch   1 Batch  102/538 - Train Accuracy:  0.645, Validation Accuracy:  0.650, Loss:  0.536"
       ]
      },
      {
       "output_type": "stream",
       "stream": "stdout",
       "text": [
        "\n",
        "Epoch   1 Batch  112/538 - Train Accuracy:  0.636, Validation Accuracy:  0.657, Loss:  0.536"
       ]
      },
      {
       "output_type": "stream",
       "stream": "stdout",
       "text": [
        "\n",
        "Epoch   1 Batch  122/538 - Train Accuracy:  0.644, Validation Accuracy:  0.654, Loss:  0.501"
       ]
      },
      {
       "output_type": "stream",
       "stream": "stdout",
       "text": [
        "\n",
        "Epoch   1 Batch  132/538 - Train Accuracy:  0.644, Validation Accuracy:  0.644, Loss:  0.520"
       ]
      },
      {
       "output_type": "stream",
       "stream": "stdout",
       "text": [
        "\n",
        "Epoch   1 Batch  142/538 - Train Accuracy:  0.669, Validation Accuracy:  0.647, Loss:  0.496"
       ]
      },
      {
       "output_type": "stream",
       "stream": "stdout",
       "text": [
        "\n",
        "Epoch   1 Batch  152/538 - Train Accuracy:  0.659, Validation Accuracy:  0.658, Loss:  0.492"
       ]
      },
      {
       "output_type": "stream",
       "stream": "stdout",
       "text": [
        "\n",
        "Epoch   1 Batch  162/538 - Train Accuracy:  0.672, Validation Accuracy:  0.661, Loss:  0.489"
       ]
      },
      {
       "output_type": "stream",
       "stream": "stdout",
       "text": [
        "\n",
        "Epoch   1 Batch  172/538 - Train Accuracy:  0.661, Validation Accuracy:  0.661, Loss:  0.485"
       ]
      },
      {
       "output_type": "stream",
       "stream": "stdout",
       "text": [
        "\n",
        "Epoch   1 Batch  182/538 - Train Accuracy:  0.615, Validation Accuracy:  0.668, Loss:  0.497"
       ]
      },
      {
       "output_type": "stream",
       "stream": "stdout",
       "text": [
        "\n",
        "Epoch   1 Batch  192/538 - Train Accuracy:  0.637, Validation Accuracy:  0.661, Loss:  0.473"
       ]
      },
      {
       "output_type": "stream",
       "stream": "stdout",
       "text": [
        "\n",
        "Epoch   1 Batch  202/538 - Train Accuracy:  0.678, Validation Accuracy:  0.675, Loss:  0.495"
       ]
      },
      {
       "output_type": "stream",
       "stream": "stdout",
       "text": [
        "\n",
        "Epoch   1 Batch  212/538 - Train Accuracy:  0.671, Validation Accuracy:  0.661, Loss:  0.472"
       ]
      },
      {
       "output_type": "stream",
       "stream": "stdout",
       "text": [
        "\n",
        "Epoch   1 Batch  222/538 - Train Accuracy:  0.658, Validation Accuracy:  0.666, Loss:  0.449"
       ]
      },
      {
       "output_type": "stream",
       "stream": "stdout",
       "text": [
        "\n",
        "Epoch   1 Batch  232/538 - Train Accuracy:  0.670, Validation Accuracy:  0.682, Loss:  0.485"
       ]
      },
      {
       "output_type": "stream",
       "stream": "stdout",
       "text": [
        "\n",
        "Epoch   1 Batch  242/538 - Train Accuracy:  0.696, Validation Accuracy:  0.680, Loss:  0.446"
       ]
      },
      {
       "output_type": "stream",
       "stream": "stdout",
       "text": [
        "\n",
        "Epoch   1 Batch  252/538 - Train Accuracy:  0.672, Validation Accuracy:  0.685, Loss:  0.438"
       ]
      },
      {
       "output_type": "stream",
       "stream": "stdout",
       "text": [
        "\n",
        "Epoch   1 Batch  262/538 - Train Accuracy:  0.672, Validation Accuracy:  0.692, Loss:  0.440"
       ]
      },
      {
       "output_type": "stream",
       "stream": "stdout",
       "text": [
        "\n",
        "Epoch   1 Batch  272/538 - Train Accuracy:  0.638, Validation Accuracy:  0.682, Loss:  0.472"
       ]
      },
      {
       "output_type": "stream",
       "stream": "stdout",
       "text": [
        "\n",
        "Epoch   1 Batch  282/538 - Train Accuracy:  0.688, Validation Accuracy:  0.697, Loss:  0.441"
       ]
      },
      {
       "output_type": "stream",
       "stream": "stdout",
       "text": [
        "\n",
        "Epoch   1 Batch  292/538 - Train Accuracy:  0.708, Validation Accuracy:  0.712, Loss:  0.405"
       ]
      },
      {
       "output_type": "stream",
       "stream": "stdout",
       "text": [
        "\n",
        "Epoch   1 Batch  302/538 - Train Accuracy:  0.720, Validation Accuracy:  0.701, Loss:  0.401"
       ]
      },
      {
       "output_type": "stream",
       "stream": "stdout",
       "text": [
        "\n",
        "Epoch   1 Batch  312/538 - Train Accuracy:  0.734, Validation Accuracy:  0.711, Loss:  0.378"
       ]
      },
      {
       "output_type": "stream",
       "stream": "stdout",
       "text": [
        "\n",
        "Epoch   1 Batch  322/538 - Train Accuracy:  0.721, Validation Accuracy:  0.712, Loss:  0.400"
       ]
      },
      {
       "output_type": "stream",
       "stream": "stdout",
       "text": [
        "\n",
        "Epoch   1 Batch  332/538 - Train Accuracy:  0.698, Validation Accuracy:  0.716, Loss:  0.418"
       ]
      },
      {
       "output_type": "stream",
       "stream": "stdout",
       "text": [
        "\n",
        "Epoch   1 Batch  342/538 - Train Accuracy:  0.699, Validation Accuracy:  0.722, Loss:  0.388"
       ]
      },
      {
       "output_type": "stream",
       "stream": "stdout",
       "text": [
        "\n",
        "Epoch   1 Batch  352/538 - Train Accuracy:  0.719, Validation Accuracy:  0.700, Loss:  0.419"
       ]
      },
      {
       "output_type": "stream",
       "stream": "stdout",
       "text": [
        "\n",
        "Epoch   1 Batch  362/538 - Train Accuracy:  0.714, Validation Accuracy:  0.724, Loss:  0.373"
       ]
      },
      {
       "output_type": "stream",
       "stream": "stdout",
       "text": [
        "\n",
        "Epoch   1 Batch  372/538 - Train Accuracy:  0.716, Validation Accuracy:  0.734, Loss:  0.389"
       ]
      },
      {
       "output_type": "stream",
       "stream": "stdout",
       "text": [
        "\n",
        "Epoch   1 Batch  382/538 - Train Accuracy:  0.722, Validation Accuracy:  0.746, Loss:  0.383"
       ]
      },
      {
       "output_type": "stream",
       "stream": "stdout",
       "text": [
        "\n",
        "Epoch   1 Batch  392/538 - Train Accuracy:  0.715, Validation Accuracy:  0.725, Loss:  0.384"
       ]
      },
      {
       "output_type": "stream",
       "stream": "stdout",
       "text": [
        "\n",
        "Epoch   1 Batch  402/538 - Train Accuracy:  0.746, Validation Accuracy:  0.738, Loss:  0.375"
       ]
      },
      {
       "output_type": "stream",
       "stream": "stdout",
       "text": [
        "\n",
        "Epoch   1 Batch  412/538 - Train Accuracy:  0.714, Validation Accuracy:  0.731, Loss:  0.357"
       ]
      },
      {
       "output_type": "stream",
       "stream": "stdout",
       "text": [
        "\n",
        "Epoch   1 Batch  422/538 - Train Accuracy:  0.728, Validation Accuracy:  0.744, Loss:  0.370"
       ]
      },
      {
       "output_type": "stream",
       "stream": "stdout",
       "text": [
        "\n",
        "Epoch   1 Batch  432/538 - Train Accuracy:  0.755, Validation Accuracy:  0.736, Loss:  0.339"
       ]
      },
      {
       "output_type": "stream",
       "stream": "stdout",
       "text": [
        "\n",
        "Epoch   1 Batch  442/538 - Train Accuracy:  0.721, Validation Accuracy:  0.746, Loss:  0.321"
       ]
      },
      {
       "output_type": "stream",
       "stream": "stdout",
       "text": [
        "\n",
        "Epoch   1 Batch  452/538 - Train Accuracy:  0.745, Validation Accuracy:  0.750, Loss:  0.350"
       ]
      },
      {
       "output_type": "stream",
       "stream": "stdout",
       "text": [
        "\n",
        "Epoch   1 Batch  462/538 - Train Accuracy:  0.715, Validation Accuracy:  0.739, Loss:  0.348"
       ]
      },
      {
       "output_type": "stream",
       "stream": "stdout",
       "text": [
        "\n",
        "Epoch   1 Batch  472/538 - Train Accuracy:  0.760, Validation Accuracy:  0.751, Loss:  0.327"
       ]
      },
      {
       "output_type": "stream",
       "stream": "stdout",
       "text": [
        "\n",
        "Epoch   1 Batch  482/538 - Train Accuracy:  0.742, Validation Accuracy:  0.740, Loss:  0.310"
       ]
      },
      {
       "output_type": "stream",
       "stream": "stdout",
       "text": [
        "\n",
        "Epoch   1 Batch  492/538 - Train Accuracy:  0.743, Validation Accuracy:  0.755, Loss:  0.336"
       ]
      },
      {
       "output_type": "stream",
       "stream": "stdout",
       "text": [
        "\n",
        "Epoch   1 Batch  502/538 - Train Accuracy:  0.722, Validation Accuracy:  0.735, Loss:  0.336"
       ]
      },
      {
       "output_type": "stream",
       "stream": "stdout",
       "text": [
        "\n",
        "Epoch   1 Batch  512/538 - Train Accuracy:  0.746, Validation Accuracy:  0.754, Loss:  0.326"
       ]
      },
      {
       "output_type": "stream",
       "stream": "stdout",
       "text": [
        "\n",
        "Epoch   1 Batch  522/538 - Train Accuracy:  0.713, Validation Accuracy:  0.754, Loss:  0.335"
       ]
      },
      {
       "output_type": "stream",
       "stream": "stdout",
       "text": [
        "\n",
        "Epoch   1 Batch  532/538 - Train Accuracy:  0.714, Validation Accuracy:  0.754, Loss:  0.333"
       ]
      },
      {
       "output_type": "stream",
       "stream": "stdout",
       "text": [
        "\n",
        "Epoch   2 Batch    5/538 - Train Accuracy:  0.707, Validation Accuracy:  0.749, Loss:  0.341"
       ]
      },
      {
       "output_type": "stream",
       "stream": "stdout",
       "text": [
        "\n",
        "Epoch   2 Batch   15/538 - Train Accuracy:  0.759, Validation Accuracy:  0.746, Loss:  0.304"
       ]
      },
      {
       "output_type": "stream",
       "stream": "stdout",
       "text": [
        "\n",
        "Epoch   2 Batch   25/538 - Train Accuracy:  0.726, Validation Accuracy:  0.771, Loss:  0.328"
       ]
      },
      {
       "output_type": "stream",
       "stream": "stdout",
       "text": [
        "\n",
        "Epoch   2 Batch   35/538 - Train Accuracy:  0.735, Validation Accuracy:  0.756, Loss:  0.307"
       ]
      },
      {
       "output_type": "stream",
       "stream": "stdout",
       "text": [
        "\n",
        "Epoch   2 Batch   45/538 - Train Accuracy:  0.754, Validation Accuracy:  0.762, Loss:  0.301"
       ]
      },
      {
       "output_type": "stream",
       "stream": "stdout",
       "text": [
        "\n",
        "Epoch   2 Batch   55/538 - Train Accuracy:  0.734, Validation Accuracy:  0.750, Loss:  0.310"
       ]
      },
      {
       "output_type": "stream",
       "stream": "stdout",
       "text": [
        "\n",
        "Epoch   2 Batch   65/538 - Train Accuracy:  0.723, Validation Accuracy:  0.764, Loss:  0.309"
       ]
      },
      {
       "output_type": "stream",
       "stream": "stdout",
       "text": [
        "\n",
        "Epoch   2 Batch   75/538 - Train Accuracy:  0.758, Validation Accuracy:  0.751, Loss:  0.288"
       ]
      },
      {
       "output_type": "stream",
       "stream": "stdout",
       "text": [
        "\n",
        "Epoch   2 Batch   85/538 - Train Accuracy:  0.737, Validation Accuracy:  0.762, Loss:  0.280"
       ]
      },
      {
       "output_type": "stream",
       "stream": "stdout",
       "text": [
        "\n",
        "Epoch   2 Batch   95/538 - Train Accuracy:  0.780, Validation Accuracy:  0.771, Loss:  0.273"
       ]
      },
      {
       "output_type": "stream",
       "stream": "stdout",
       "text": [
        "\n",
        "Epoch   2 Batch  105/538 - Train Accuracy:  0.737, Validation Accuracy:  0.752, Loss:  0.279"
       ]
      },
      {
       "output_type": "stream",
       "stream": "stdout",
       "text": [
        "\n",
        "Epoch   2 Batch  115/538 - Train Accuracy:  0.759, Validation Accuracy:  0.766, Loss:  0.301"
       ]
      },
      {
       "output_type": "stream",
       "stream": "stdout",
       "text": [
        "\n",
        "Epoch   2 Batch  125/538 - Train Accuracy:  0.757, Validation Accuracy:  0.764, Loss:  0.281"
       ]
      },
      {
       "output_type": "stream",
       "stream": "stdout",
       "text": [
        "\n",
        "Epoch   2 Batch  135/538 - Train Accuracy:  0.748, Validation Accuracy:  0.766, Loss:  0.288"
       ]
      },
      {
       "output_type": "stream",
       "stream": "stdout",
       "text": [
        "\n",
        "Epoch   2 Batch  145/538 - Train Accuracy:  0.735, Validation Accuracy:  0.771, Loss:  0.301"
       ]
      },
      {
       "output_type": "stream",
       "stream": "stdout",
       "text": [
        "\n",
        "Epoch   2 Batch  155/538 - Train Accuracy:  0.778, Validation Accuracy:  0.762, Loss:  0.288"
       ]
      },
      {
       "output_type": "stream",
       "stream": "stdout",
       "text": [
        "\n",
        "Epoch   2 Batch  165/538 - Train Accuracy:  0.754, Validation Accuracy:  0.770, Loss:  0.269"
       ]
      },
      {
       "output_type": "stream",
       "stream": "stdout",
       "text": [
        "\n",
        "Epoch   2 Batch  175/538 - Train Accuracy:  0.741, Validation Accuracy:  0.774, Loss:  0.289"
       ]
      },
      {
       "output_type": "stream",
       "stream": "stdout",
       "text": [
        "\n",
        "Epoch   2 Batch  185/538 - Train Accuracy:  0.758, Validation Accuracy:  0.778, Loss:  0.281"
       ]
      },
      {
       "output_type": "stream",
       "stream": "stdout",
       "text": [
        "\n",
        "Epoch   2 Batch  195/538 - Train Accuracy:  0.775, Validation Accuracy:  0.774, Loss:  0.268"
       ]
      },
      {
       "output_type": "stream",
       "stream": "stdout",
       "text": [
        "\n",
        "Epoch   2 Batch  205/538 - Train Accuracy:  0.781, Validation Accuracy:  0.780, Loss:  0.255"
       ]
      },
      {
       "output_type": "stream",
       "stream": "stdout",
       "text": [
        "\n",
        "Epoch   2 Batch  215/538 - Train Accuracy:  0.779, Validation Accuracy:  0.780, Loss:  0.263"
       ]
      },
      {
       "output_type": "stream",
       "stream": "stdout",
       "text": [
        "\n",
        "Epoch   2 Batch  225/538 - Train Accuracy:  0.772, Validation Accuracy:  0.766, Loss:  0.268"
       ]
      },
      {
       "output_type": "stream",
       "stream": "stdout",
       "text": [
        "\n",
        "Epoch   2 Batch  235/538 - Train Accuracy:  0.776, Validation Accuracy:  0.774, Loss:  0.252"
       ]
      },
      {
       "output_type": "stream",
       "stream": "stdout",
       "text": [
        "\n",
        "Epoch   2 Batch  245/538 - Train Accuracy:  0.759, Validation Accuracy:  0.787, Loss:  0.281"
       ]
      },
      {
       "output_type": "stream",
       "stream": "stdout",
       "text": [
        "\n",
        "Epoch   2 Batch  255/538 - Train Accuracy:  0.770, Validation Accuracy:  0.775, Loss:  0.257"
       ]
      },
      {
       "output_type": "stream",
       "stream": "stdout",
       "text": [
        "\n",
        "Epoch   2 Batch  265/538 - Train Accuracy:  0.743, Validation Accuracy:  0.777, Loss:  0.280"
       ]
      },
      {
       "output_type": "stream",
       "stream": "stdout",
       "text": [
        "\n",
        "Epoch   2 Batch  275/538 - Train Accuracy:  0.765, Validation Accuracy:  0.792, Loss:  0.276"
       ]
      },
      {
       "output_type": "stream",
       "stream": "stdout",
       "text": [
        "\n",
        "Epoch   2 Batch  285/538 - Train Accuracy:  0.798, Validation Accuracy:  0.794, Loss:  0.236"
       ]
      },
      {
       "output_type": "stream",
       "stream": "stdout",
       "text": [
        "\n",
        "Epoch   2 Batch  295/538 - Train Accuracy:  0.814, Validation Accuracy:  0.794, Loss:  0.225"
       ]
      },
      {
       "output_type": "stream",
       "stream": "stdout",
       "text": [
        "\n",
        "Epoch   2 Batch  305/538 - Train Accuracy:  0.789, Validation Accuracy:  0.800, Loss:  0.234"
       ]
      },
      {
       "output_type": "stream",
       "stream": "stdout",
       "text": [
        "\n",
        "Epoch   2 Batch  315/538 - Train Accuracy:  0.795, Validation Accuracy:  0.793, Loss:  0.240"
       ]
      },
      {
       "output_type": "stream",
       "stream": "stdout",
       "text": [
        "\n",
        "Epoch   2 Batch  325/538 - Train Accuracy:  0.799, Validation Accuracy:  0.791, Loss:  0.239"
       ]
      },
      {
       "output_type": "stream",
       "stream": "stdout",
       "text": [
        "\n",
        "Epoch   2 Batch  335/538 - Train Accuracy:  0.776, Validation Accuracy:  0.779, Loss:  0.238"
       ]
      },
      {
       "output_type": "stream",
       "stream": "stdout",
       "text": [
        "\n",
        "Epoch   2 Batch  345/538 - Train Accuracy:  0.790, Validation Accuracy:  0.804, Loss:  0.236"
       ]
      },
      {
       "output_type": "stream",
       "stream": "stdout",
       "text": [
        "\n",
        "Epoch   2 Batch  355/538 - Train Accuracy:  0.809, Validation Accuracy:  0.791, Loss:  0.233"
       ]
      },
      {
       "output_type": "stream",
       "stream": "stdout",
       "text": [
        "\n",
        "Epoch   2 Batch  365/538 - Train Accuracy:  0.784, Validation Accuracy:  0.783, Loss:  0.228"
       ]
      },
      {
       "output_type": "stream",
       "stream": "stdout",
       "text": [
        "\n",
        "Epoch   2 Batch  375/538 - Train Accuracy:  0.816, Validation Accuracy:  0.794, Loss:  0.218"
       ]
      },
      {
       "output_type": "stream",
       "stream": "stdout",
       "text": [
        "\n",
        "Epoch   2 Batch  385/538 - Train Accuracy:  0.805, Validation Accuracy:  0.794, Loss:  0.207"
       ]
      },
      {
       "output_type": "stream",
       "stream": "stdout",
       "text": [
        "\n",
        "Epoch   2 Batch  395/538 - Train Accuracy:  0.779, Validation Accuracy:  0.818, Loss:  0.233"
       ]
      },
      {
       "output_type": "stream",
       "stream": "stdout",
       "text": [
        "\n",
        "Epoch   2 Batch  405/538 - Train Accuracy:  0.809, Validation Accuracy:  0.811, Loss:  0.203"
       ]
      },
      {
       "output_type": "stream",
       "stream": "stdout",
       "text": [
        "\n",
        "Epoch   2 Batch  415/538 - Train Accuracy:  0.816, Validation Accuracy:  0.827, Loss:  0.218"
       ]
      },
      {
       "output_type": "stream",
       "stream": "stdout",
       "text": [
        "\n",
        "Epoch   2 Batch  425/538 - Train Accuracy:  0.840, Validation Accuracy:  0.849, Loss:  0.211"
       ]
      },
      {
       "output_type": "stream",
       "stream": "stdout",
       "text": [
        "\n",
        "Epoch   2 Batch  435/538 - Train Accuracy:  0.845, Validation Accuracy:  0.815, Loss:  0.203"
       ]
      },
      {
       "output_type": "stream",
       "stream": "stdout",
       "text": [
        "\n",
        "Epoch   2 Batch  445/538 - Train Accuracy:  0.879, Validation Accuracy:  0.847, Loss:  0.187"
       ]
      },
      {
       "output_type": "stream",
       "stream": "stdout",
       "text": [
        "\n",
        "Epoch   2 Batch  455/538 - Train Accuracy:  0.849, Validation Accuracy:  0.842, Loss:  0.178"
       ]
      },
      {
       "output_type": "stream",
       "stream": "stdout",
       "text": [
        "\n",
        "Epoch   2 Batch  465/538 - Train Accuracy:  0.841, Validation Accuracy:  0.853, Loss:  0.203"
       ]
      },
      {
       "output_type": "stream",
       "stream": "stdout",
       "text": [
        "\n",
        "Epoch   2 Batch  475/538 - Train Accuracy:  0.875, Validation Accuracy:  0.849, Loss:  0.186"
       ]
      },
      {
       "output_type": "stream",
       "stream": "stdout",
       "text": [
        "\n",
        "Epoch   2 Batch  485/538 - Train Accuracy:  0.857, Validation Accuracy:  0.848, Loss:  0.184"
       ]
      },
      {
       "output_type": "stream",
       "stream": "stdout",
       "text": [
        "\n",
        "Epoch   2 Batch  495/538 - Train Accuracy:  0.862, Validation Accuracy:  0.852, Loss:  0.186"
       ]
      },
      {
       "output_type": "stream",
       "stream": "stdout",
       "text": [
        "\n",
        "Epoch   2 Batch  505/538 - Train Accuracy:  0.884, Validation Accuracy:  0.841, Loss:  0.164"
       ]
      },
      {
       "output_type": "stream",
       "stream": "stdout",
       "text": [
        "\n",
        "Epoch   2 Batch  515/538 - Train Accuracy:  0.869, Validation Accuracy:  0.866, Loss:  0.167"
       ]
      },
      {
       "output_type": "stream",
       "stream": "stdout",
       "text": [
        "\n",
        "Epoch   2 Batch  525/538 - Train Accuracy:  0.885, Validation Accuracy:  0.866, Loss:  0.149"
       ]
      },
      {
       "output_type": "stream",
       "stream": "stdout",
       "text": [
        "\n",
        "Epoch   2 Batch  535/538 - Train Accuracy:  0.879, Validation Accuracy:  0.862, Loss:  0.153"
       ]
      },
      {
       "output_type": "stream",
       "stream": "stdout",
       "text": [
        "\n",
        "Epoch   3 Batch    8/538 - Train Accuracy:  0.885, Validation Accuracy:  0.864, Loss:  0.145"
       ]
      },
      {
       "output_type": "stream",
       "stream": "stdout",
       "text": [
        "\n",
        "Epoch   3 Batch   18/538 - Train Accuracy:  0.883, Validation Accuracy:  0.872, Loss:  0.157"
       ]
      },
      {
       "output_type": "stream",
       "stream": "stdout",
       "text": [
        "\n",
        "Epoch   3 Batch   28/538 - Train Accuracy:  0.875, Validation Accuracy:  0.861, Loss:  0.131"
       ]
      },
      {
       "output_type": "stream",
       "stream": "stdout",
       "text": [
        "\n",
        "Epoch   3 Batch   38/538 - Train Accuracy:  0.873, Validation Accuracy:  0.867, Loss:  0.137"
       ]
      },
      {
       "output_type": "stream",
       "stream": "stdout",
       "text": [
        "\n",
        "Epoch   3 Batch   48/538 - Train Accuracy:  0.897, Validation Accuracy:  0.875, Loss:  0.128"
       ]
      },
      {
       "output_type": "stream",
       "stream": "stdout",
       "text": [
        "\n",
        "Epoch   3 Batch   58/538 - Train Accuracy:  0.877, Validation Accuracy:  0.880, Loss:  0.126"
       ]
      },
      {
       "output_type": "stream",
       "stream": "stdout",
       "text": [
        "\n",
        "Epoch   3 Batch   68/538 - Train Accuracy:  0.888, Validation Accuracy:  0.860, Loss:  0.114"
       ]
      },
      {
       "output_type": "stream",
       "stream": "stdout",
       "text": [
        "\n",
        "Epoch   3 Batch   78/538 - Train Accuracy:  0.885, Validation Accuracy:  0.884, Loss:  0.118"
       ]
      },
      {
       "output_type": "stream",
       "stream": "stdout",
       "text": [
        "\n",
        "Epoch   3 Batch   88/538 - Train Accuracy:  0.897, Validation Accuracy:  0.892, Loss:  0.112"
       ]
      },
      {
       "output_type": "stream",
       "stream": "stdout",
       "text": [
        "\n",
        "Epoch   3 Batch   98/538 - Train Accuracy:  0.912, Validation Accuracy:  0.886, Loss:  0.104"
       ]
      },
      {
       "output_type": "stream",
       "stream": "stdout",
       "text": [
        "\n",
        "Epoch   3 Batch  108/538 - Train Accuracy:  0.918, Validation Accuracy:  0.881, Loss:  0.108"
       ]
      },
      {
       "output_type": "stream",
       "stream": "stdout",
       "text": [
        "\n",
        "Epoch   3 Batch  118/538 - Train Accuracy:  0.905, Validation Accuracy:  0.886, Loss:  0.093"
       ]
      },
      {
       "output_type": "stream",
       "stream": "stdout",
       "text": [
        "\n",
        "Epoch   3 Batch  128/538 - Train Accuracy:  0.899, Validation Accuracy:  0.901, Loss:  0.095"
       ]
      },
      {
       "output_type": "stream",
       "stream": "stdout",
       "text": [
        "\n",
        "Epoch   3 Batch  138/538 - Train Accuracy:  0.906, Validation Accuracy:  0.888, Loss:  0.097"
       ]
      },
      {
       "output_type": "stream",
       "stream": "stdout",
       "text": [
        "\n",
        "Epoch   3 Batch  148/538 - Train Accuracy:  0.875, Validation Accuracy:  0.898, Loss:  0.112"
       ]
      },
      {
       "output_type": "stream",
       "stream": "stdout",
       "text": [
        "\n",
        "Epoch   3 Batch  158/538 - Train Accuracy:  0.916, Validation Accuracy:  0.892, Loss:  0.101"
       ]
      },
      {
       "output_type": "stream",
       "stream": "stdout",
       "text": [
        "\n",
        "Epoch   3 Batch  168/538 - Train Accuracy:  0.892, Validation Accuracy:  0.899, Loss:  0.114"
       ]
      },
      {
       "output_type": "stream",
       "stream": "stdout",
       "text": [
        "\n",
        "Epoch   3 Batch  178/538 - Train Accuracy:  0.900, Validation Accuracy:  0.894, Loss:  0.091"
       ]
      },
      {
       "output_type": "stream",
       "stream": "stdout",
       "text": [
        "\n",
        "Epoch   3 Batch  188/538 - Train Accuracy:  0.912, Validation Accuracy:  0.890, Loss:  0.078"
       ]
      },
      {
       "output_type": "stream",
       "stream": "stdout",
       "text": [
        "\n",
        "Epoch   3 Batch  198/538 - Train Accuracy:  0.915, Validation Accuracy:  0.903, Loss:  0.080"
       ]
      },
      {
       "output_type": "stream",
       "stream": "stdout",
       "text": [
        "\n",
        "Epoch   3 Batch  208/538 - Train Accuracy:  0.909, Validation Accuracy:  0.910, Loss:  0.106"
       ]
      },
      {
       "output_type": "stream",
       "stream": "stdout",
       "text": [
        "\n",
        "Epoch   3 Batch  218/538 - Train Accuracy:  0.913, Validation Accuracy:  0.901, Loss:  0.075"
       ]
      },
      {
       "output_type": "stream",
       "stream": "stdout",
       "text": [
        "\n",
        "Epoch   3 Batch  228/538 - Train Accuracy:  0.892, Validation Accuracy:  0.903, Loss:  0.077"
       ]
      },
      {
       "output_type": "stream",
       "stream": "stdout",
       "text": [
        "\n",
        "Epoch   3 Batch  238/538 - Train Accuracy:  0.938, Validation Accuracy:  0.905, Loss:  0.080"
       ]
      },
      {
       "output_type": "stream",
       "stream": "stdout",
       "text": [
        "\n",
        "Epoch   3 Batch  248/538 - Train Accuracy:  0.917, Validation Accuracy:  0.904, Loss:  0.079"
       ]
      },
      {
       "output_type": "stream",
       "stream": "stdout",
       "text": [
        "\n",
        "Epoch   3 Batch  258/538 - Train Accuracy:  0.925, Validation Accuracy:  0.906, Loss:  0.075"
       ]
      },
      {
       "output_type": "stream",
       "stream": "stdout",
       "text": [
        "\n",
        "Epoch   3 Batch  268/538 - Train Accuracy:  0.921, Validation Accuracy:  0.903, Loss:  0.066"
       ]
      },
      {
       "output_type": "stream",
       "stream": "stdout",
       "text": [
        "\n",
        "Epoch   3 Batch  278/538 - Train Accuracy:  0.922, Validation Accuracy:  0.912, Loss:  0.067"
       ]
      },
      {
       "output_type": "stream",
       "stream": "stdout",
       "text": [
        "\n",
        "Epoch   3 Batch  288/538 - Train Accuracy:  0.936, Validation Accuracy:  0.907, Loss:  0.074"
       ]
      },
      {
       "output_type": "stream",
       "stream": "stdout",
       "text": [
        "\n",
        "Epoch   3 Batch  298/538 - Train Accuracy:  0.909, Validation Accuracy:  0.907, Loss:  0.074"
       ]
      },
      {
       "output_type": "stream",
       "stream": "stdout",
       "text": [
        "\n",
        "Epoch   3 Batch  308/538 - Train Accuracy:  0.923, Validation Accuracy:  0.930, Loss:  0.071"
       ]
      },
      {
       "output_type": "stream",
       "stream": "stdout",
       "text": [
        "\n",
        "Epoch   3 Batch  318/538 - Train Accuracy:  0.905, Validation Accuracy:  0.905, Loss:  0.069"
       ]
      },
      {
       "output_type": "stream",
       "stream": "stdout",
       "text": [
        "\n",
        "Epoch   3 Batch  328/538 - Train Accuracy:  0.941, Validation Accuracy:  0.918, Loss:  0.066"
       ]
      },
      {
       "output_type": "stream",
       "stream": "stdout",
       "text": [
        "\n",
        "Epoch   3 Batch  338/538 - Train Accuracy:  0.930, Validation Accuracy:  0.918, Loss:  0.069"
       ]
      },
      {
       "output_type": "stream",
       "stream": "stdout",
       "text": [
        "\n",
        "Epoch   3 Batch  348/538 - Train Accuracy:  0.929, Validation Accuracy:  0.922, Loss:  0.058"
       ]
      },
      {
       "output_type": "stream",
       "stream": "stdout",
       "text": [
        "\n",
        "Epoch   3 Batch  358/538 - Train Accuracy:  0.915, Validation Accuracy:  0.925, Loss:  0.064"
       ]
      },
      {
       "output_type": "stream",
       "stream": "stdout",
       "text": [
        "\n",
        "Epoch   3 Batch  368/538 - Train Accuracy:  0.924, Validation Accuracy:  0.919, Loss:  0.062"
       ]
      },
      {
       "output_type": "stream",
       "stream": "stdout",
       "text": [
        "\n",
        "Epoch   3 Batch  378/538 - Train Accuracy:  0.933, Validation Accuracy:  0.912, Loss:  0.056"
       ]
      },
      {
       "output_type": "stream",
       "stream": "stdout",
       "text": [
        "\n",
        "Epoch   3 Batch  388/538 - Train Accuracy:  0.931, Validation Accuracy:  0.920, Loss:  0.061"
       ]
      },
      {
       "output_type": "stream",
       "stream": "stdout",
       "text": [
        "\n",
        "Epoch   3 Batch  398/538 - Train Accuracy:  0.918, Validation Accuracy:  0.926, Loss:  0.064"
       ]
      },
      {
       "output_type": "stream",
       "stream": "stdout",
       "text": [
        "\n",
        "Epoch   3 Batch  408/538 - Train Accuracy:  0.922, Validation Accuracy:  0.921, Loss:  0.066"
       ]
      },
      {
       "output_type": "stream",
       "stream": "stdout",
       "text": [
        "\n",
        "Epoch   3 Batch  418/538 - Train Accuracy:  0.922, Validation Accuracy:  0.940, Loss:  0.069"
       ]
      },
      {
       "output_type": "stream",
       "stream": "stdout",
       "text": [
        "\n",
        "Epoch   3 Batch  428/538 - Train Accuracy:  0.935, Validation Accuracy:  0.916, Loss:  0.059"
       ]
      },
      {
       "output_type": "stream",
       "stream": "stdout",
       "text": [
        "\n",
        "Epoch   3 Batch  438/538 - Train Accuracy:  0.920, Validation Accuracy:  0.914, Loss:  0.059"
       ]
      },
      {
       "output_type": "stream",
       "stream": "stdout",
       "text": [
        "\n",
        "Epoch   3 Batch  448/538 - Train Accuracy:  0.918, Validation Accuracy:  0.918, Loss:  0.051"
       ]
      },
      {
       "output_type": "stream",
       "stream": "stdout",
       "text": [
        "\n",
        "Epoch   3 Batch  458/538 - Train Accuracy:  0.930, Validation Accuracy:  0.921, Loss:  0.060"
       ]
      },
      {
       "output_type": "stream",
       "stream": "stdout",
       "text": [
        "\n",
        "Epoch   3 Batch  468/538 - Train Accuracy:  0.934, Validation Accuracy:  0.919, Loss:  0.069"
       ]
      },
      {
       "output_type": "stream",
       "stream": "stdout",
       "text": [
        "\n",
        "Epoch   3 Batch  478/538 - Train Accuracy:  0.948, Validation Accuracy:  0.923, Loss:  0.048"
       ]
      },
      {
       "output_type": "stream",
       "stream": "stdout",
       "text": [
        "\n",
        "Epoch   3 Batch  488/538 - Train Accuracy:  0.946, Validation Accuracy:  0.918, Loss:  0.049"
       ]
      },
      {
       "output_type": "stream",
       "stream": "stdout",
       "text": [
        "\n",
        "Epoch   3 Batch  498/538 - Train Accuracy:  0.904, Validation Accuracy:  0.929, Loss:  0.060"
       ]
      },
      {
       "output_type": "stream",
       "stream": "stdout",
       "text": [
        "\n",
        "Epoch   3 Batch  508/538 - Train Accuracy:  0.918, Validation Accuracy:  0.922, Loss:  0.053"
       ]
      },
      {
       "output_type": "stream",
       "stream": "stdout",
       "text": [
        "\n",
        "Epoch   3 Batch  518/538 - Train Accuracy:  0.915, Validation Accuracy:  0.922, Loss:  0.063"
       ]
      },
      {
       "output_type": "stream",
       "stream": "stdout",
       "text": [
        "\n",
        "Epoch   3 Batch  528/538 - Train Accuracy:  0.921, Validation Accuracy:  0.936, Loss:  0.059"
       ]
      },
      {
       "output_type": "stream",
       "stream": "stdout",
       "text": [
        "\n",
        "Epoch   4 Batch    1/538 - Train Accuracy:  0.940, Validation Accuracy:  0.921, Loss:  0.052"
       ]
      },
      {
       "output_type": "stream",
       "stream": "stdout",
       "text": [
        "\n",
        "Epoch   4 Batch   11/538 - Train Accuracy:  0.924, Validation Accuracy:  0.919, Loss:  0.051"
       ]
      },
      {
       "output_type": "stream",
       "stream": "stdout",
       "text": [
        "\n",
        "Epoch   4 Batch   21/538 - Train Accuracy:  0.941, Validation Accuracy:  0.926, Loss:  0.042"
       ]
      },
      {
       "output_type": "stream",
       "stream": "stdout",
       "text": [
        "\n",
        "Epoch   4 Batch   31/538 - Train Accuracy:  0.935, Validation Accuracy:  0.913, Loss:  0.048"
       ]
      },
      {
       "output_type": "stream",
       "stream": "stdout",
       "text": [
        "\n",
        "Epoch   4 Batch   41/538 - Train Accuracy:  0.940, Validation Accuracy:  0.927, Loss:  0.052"
       ]
      },
      {
       "output_type": "stream",
       "stream": "stdout",
       "text": [
        "\n",
        "Epoch   4 Batch   51/538 - Train Accuracy:  0.932, Validation Accuracy:  0.919, Loss:  0.064"
       ]
      },
      {
       "output_type": "stream",
       "stream": "stdout",
       "text": [
        "\n",
        "Epoch   4 Batch   61/538 - Train Accuracy:  0.925, Validation Accuracy:  0.920, Loss:  0.056"
       ]
      },
      {
       "output_type": "stream",
       "stream": "stdout",
       "text": [
        "\n",
        "Epoch   4 Batch   71/538 - Train Accuracy:  0.917, Validation Accuracy:  0.920, Loss:  0.068"
       ]
      },
      {
       "output_type": "stream",
       "stream": "stdout",
       "text": [
        "\n",
        "Epoch   4 Batch   81/538 - Train Accuracy:  0.925, Validation Accuracy:  0.924, Loss:  0.065"
       ]
      },
      {
       "output_type": "stream",
       "stream": "stdout",
       "text": [
        "\n",
        "Epoch   4 Batch   91/538 - Train Accuracy:  0.929, Validation Accuracy:  0.933, Loss:  0.050"
       ]
      },
      {
       "output_type": "stream",
       "stream": "stdout",
       "text": [
        "\n",
        "Epoch   4 Batch  101/538 - Train Accuracy:  0.922, Validation Accuracy:  0.928, Loss:  0.063"
       ]
      },
      {
       "output_type": "stream",
       "stream": "stdout",
       "text": [
        "\n",
        "Epoch   4 Batch  111/538 - Train Accuracy:  0.930, Validation Accuracy:  0.941, Loss:  0.057"
       ]
      },
      {
       "output_type": "stream",
       "stream": "stdout",
       "text": [
        "\n",
        "Epoch   4 Batch  121/538 - Train Accuracy:  0.933, Validation Accuracy:  0.921, Loss:  0.049"
       ]
      },
      {
       "output_type": "stream",
       "stream": "stdout",
       "text": [
        "\n",
        "Epoch   4 Batch  131/538 - Train Accuracy:  0.941, Validation Accuracy:  0.928, Loss:  0.052"
       ]
      },
      {
       "output_type": "stream",
       "stream": "stdout",
       "text": [
        "\n",
        "Epoch   4 Batch  141/538 - Train Accuracy:  0.942, Validation Accuracy:  0.923, Loss:  0.054"
       ]
      },
      {
       "output_type": "stream",
       "stream": "stdout",
       "text": [
        "\n",
        "Epoch   4 Batch  151/538 - Train Accuracy:  0.924, Validation Accuracy:  0.943, Loss:  0.051"
       ]
      },
      {
       "output_type": "stream",
       "stream": "stdout",
       "text": [
        "\n",
        "Epoch   4 Batch  161/538 - Train Accuracy:  0.926, Validation Accuracy:  0.911, Loss:  0.050"
       ]
      },
      {
       "output_type": "stream",
       "stream": "stdout",
       "text": [
        "\n",
        "Epoch   4 Batch  171/538 - Train Accuracy:  0.915, Validation Accuracy:  0.929, Loss:  0.053"
       ]
      },
      {
       "output_type": "stream",
       "stream": "stdout",
       "text": [
        "\n",
        "Epoch   4 Batch  181/538 - Train Accuracy:  0.915, Validation Accuracy:  0.920, Loss:  0.054"
       ]
      },
      {
       "output_type": "stream",
       "stream": "stdout",
       "text": [
        "\n",
        "Epoch   4 Batch  191/538 - Train Accuracy:  0.938, Validation Accuracy:  0.927, Loss:  0.050"
       ]
      },
      {
       "output_type": "stream",
       "stream": "stdout",
       "text": [
        "\n",
        "Epoch   4 Batch  201/538 - Train Accuracy:  0.932, Validation Accuracy:  0.925, Loss:  0.056"
       ]
      },
      {
       "output_type": "stream",
       "stream": "stdout",
       "text": [
        "\n",
        "Epoch   4 Batch  211/538 - Train Accuracy:  0.933, Validation Accuracy:  0.928, Loss:  0.055"
       ]
      },
      {
       "output_type": "stream",
       "stream": "stdout",
       "text": [
        "\n",
        "Epoch   4 Batch  221/538 - Train Accuracy:  0.941, Validation Accuracy:  0.940, Loss:  0.047"
       ]
      },
      {
       "output_type": "stream",
       "stream": "stdout",
       "text": [
        "\n",
        "Epoch   4 Batch  231/538 - Train Accuracy:  0.949, Validation Accuracy:  0.928, Loss:  0.048"
       ]
      },
      {
       "output_type": "stream",
       "stream": "stdout",
       "text": [
        "\n",
        "Epoch   4 Batch  241/538 - Train Accuracy:  0.925, Validation Accuracy:  0.933, Loss:  0.049"
       ]
      },
      {
       "output_type": "stream",
       "stream": "stdout",
       "text": [
        "\n",
        "Epoch   4 Batch  251/538 - Train Accuracy:  0.931, Validation Accuracy:  0.929, Loss:  0.040"
       ]
      },
      {
       "output_type": "stream",
       "stream": "stdout",
       "text": [
        "\n",
        "Epoch   4 Batch  261/538 - Train Accuracy:  0.932, Validation Accuracy:  0.931, Loss:  0.047"
       ]
      },
      {
       "output_type": "stream",
       "stream": "stdout",
       "text": [
        "\n",
        "Epoch   4 Batch  271/538 - Train Accuracy:  0.946, Validation Accuracy:  0.937, Loss:  0.038"
       ]
      },
      {
       "output_type": "stream",
       "stream": "stdout",
       "text": [
        "\n",
        "Epoch   4 Batch  281/538 - Train Accuracy:  0.943, Validation Accuracy:  0.943, Loss:  0.048"
       ]
      },
      {
       "output_type": "stream",
       "stream": "stdout",
       "text": [
        "\n",
        "Epoch   4 Batch  291/538 - Train Accuracy:  0.932, Validation Accuracy:  0.923, Loss:  0.049"
       ]
      },
      {
       "output_type": "stream",
       "stream": "stdout",
       "text": [
        "\n",
        "Epoch   4 Batch  301/538 - Train Accuracy:  0.927, Validation Accuracy:  0.942, Loss:  0.052"
       ]
      },
      {
       "output_type": "stream",
       "stream": "stdout",
       "text": [
        "\n",
        "Epoch   4 Batch  311/538 - Train Accuracy:  0.925, Validation Accuracy:  0.942, Loss:  0.052"
       ]
      },
      {
       "output_type": "stream",
       "stream": "stdout",
       "text": [
        "\n",
        "Epoch   4 Batch  321/538 - Train Accuracy:  0.929, Validation Accuracy:  0.952, Loss:  0.040"
       ]
      },
      {
       "output_type": "stream",
       "stream": "stdout",
       "text": [
        "\n",
        "Epoch   4 Batch  331/538 - Train Accuracy:  0.941, Validation Accuracy:  0.930, Loss:  0.051"
       ]
      },
      {
       "output_type": "stream",
       "stream": "stdout",
       "text": [
        "\n",
        "Epoch   4 Batch  341/538 - Train Accuracy:  0.938, Validation Accuracy:  0.939, Loss:  0.046"
       ]
      },
      {
       "output_type": "stream",
       "stream": "stdout",
       "text": [
        "\n",
        "Epoch   4 Batch  351/538 - Train Accuracy:  0.937, Validation Accuracy:  0.928, Loss:  0.049"
       ]
      },
      {
       "output_type": "stream",
       "stream": "stdout",
       "text": [
        "\n",
        "Epoch   4 Batch  361/538 - Train Accuracy:  0.952, Validation Accuracy:  0.948, Loss:  0.043"
       ]
      },
      {
       "output_type": "stream",
       "stream": "stdout",
       "text": [
        "\n",
        "Epoch   4 Batch  371/538 - Train Accuracy:  0.943, Validation Accuracy:  0.937, Loss:  0.047"
       ]
      },
      {
       "output_type": "stream",
       "stream": "stdout",
       "text": [
        "\n",
        "Epoch   4 Batch  381/538 - Train Accuracy:  0.952, Validation Accuracy:  0.942, Loss:  0.039"
       ]
      },
      {
       "output_type": "stream",
       "stream": "stdout",
       "text": [
        "\n",
        "Epoch   4 Batch  391/538 - Train Accuracy:  0.940, Validation Accuracy:  0.926, Loss:  0.039"
       ]
      },
      {
       "output_type": "stream",
       "stream": "stdout",
       "text": [
        "\n",
        "Epoch   4 Batch  401/538 - Train Accuracy:  0.944, Validation Accuracy:  0.938, Loss:  0.045"
       ]
      },
      {
       "output_type": "stream",
       "stream": "stdout",
       "text": [
        "\n",
        "Epoch   4 Batch  411/538 - Train Accuracy:  0.946, Validation Accuracy:  0.941, Loss:  0.044"
       ]
      },
      {
       "output_type": "stream",
       "stream": "stdout",
       "text": [
        "\n",
        "Epoch   4 Batch  421/538 - Train Accuracy:  0.934, Validation Accuracy:  0.936, Loss:  0.038"
       ]
      },
      {
       "output_type": "stream",
       "stream": "stdout",
       "text": [
        "\n",
        "Epoch   4 Batch  431/538 - Train Accuracy:  0.939, Validation Accuracy:  0.933, Loss:  0.036"
       ]
      },
      {
       "output_type": "stream",
       "stream": "stdout",
       "text": [
        "\n",
        "Epoch   4 Batch  441/538 - Train Accuracy:  0.921, Validation Accuracy:  0.944, Loss:  0.054"
       ]
      },
      {
       "output_type": "stream",
       "stream": "stdout",
       "text": [
        "\n",
        "Epoch   4 Batch  451/538 - Train Accuracy:  0.937, Validation Accuracy:  0.945, Loss:  0.037"
       ]
      },
      {
       "output_type": "stream",
       "stream": "stdout",
       "text": [
        "\n",
        "Epoch   4 Batch  461/538 - Train Accuracy:  0.956, Validation Accuracy:  0.949, Loss:  0.047"
       ]
      },
      {
       "output_type": "stream",
       "stream": "stdout",
       "text": [
        "\n",
        "Epoch   4 Batch  471/538 - Train Accuracy:  0.953, Validation Accuracy:  0.949, Loss:  0.042"
       ]
      },
      {
       "output_type": "stream",
       "stream": "stdout",
       "text": [
        "\n",
        "Epoch   4 Batch  481/538 - Train Accuracy:  0.946, Validation Accuracy:  0.940, Loss:  0.046"
       ]
      },
      {
       "output_type": "stream",
       "stream": "stdout",
       "text": [
        "\n",
        "Epoch   4 Batch  491/538 - Train Accuracy:  0.918, Validation Accuracy:  0.938, Loss:  0.045"
       ]
      },
      {
       "output_type": "stream",
       "stream": "stdout",
       "text": [
        "\n",
        "Epoch   4 Batch  501/538 - Train Accuracy:  0.956, Validation Accuracy:  0.943, Loss:  0.047"
       ]
      },
      {
       "output_type": "stream",
       "stream": "stdout",
       "text": [
        "\n",
        "Epoch   4 Batch  511/538 - Train Accuracy:  0.939, Validation Accuracy:  0.932, Loss:  0.044"
       ]
      },
      {
       "output_type": "stream",
       "stream": "stdout",
       "text": [
        "\n",
        "Epoch   4 Batch  521/538 - Train Accuracy:  0.935, Validation Accuracy:  0.951, Loss:  0.053"
       ]
      },
      {
       "output_type": "stream",
       "stream": "stdout",
       "text": [
        "\n",
        "Epoch   4 Batch  531/538 - Train Accuracy:  0.950, Validation Accuracy:  0.938, Loss:  0.040"
       ]
      },
      {
       "output_type": "stream",
       "stream": "stdout",
       "text": [
        "\n",
        "Model Trained and Saved"
       ]
      },
      {
       "output_type": "stream",
       "stream": "stdout",
       "text": [
        "\n"
       ]
      }
     ],
     "prompt_number": 38
    },
    {
     "cell_type": "markdown",
     "metadata": {
      "deletable": true,
      "editable": true
     },
     "source": [
      "### Save Parameters\n",
      "Save the `batch_size` and `save_path` parameters for inference."
     ]
    },
    {
     "cell_type": "code",
     "collapsed": false,
     "input": [
      "\"\"\"\n",
      "DON'T MODIFY ANYTHING IN THIS CELL\n",
      "\"\"\"\n",
      "# Save parameters for checkpoint\n",
      "helper.save_params(save_path)"
     ],
     "language": "python",
     "metadata": {
      "deletable": true,
      "editable": true
     },
     "outputs": [],
     "prompt_number": 39
    },
    {
     "cell_type": "heading",
     "level": 1,
     "metadata": {
      "deletable": true,
      "editable": true
     },
     "source": [
      "Checkpoint"
     ]
    },
    {
     "cell_type": "code",
     "collapsed": false,
     "input": [
      "\"\"\"\n",
      "DON'T MODIFY ANYTHING IN THIS CELL\n",
      "\"\"\"\n",
      "import tensorflow as tf\n",
      "import numpy as np\n",
      "import helper\n",
      "import problem_unittests as tests\n",
      "\n",
      "_, (source_vocab_to_int, target_vocab_to_int), (source_int_to_vocab, target_int_to_vocab) = helper.load_preprocess()\n",
      "load_path = helper.load_params()"
     ],
     "language": "python",
     "metadata": {
      "deletable": true,
      "editable": true
     },
     "outputs": [],
     "prompt_number": 40
    },
    {
     "cell_type": "markdown",
     "metadata": {
      "deletable": true,
      "editable": true
     },
     "source": [
      "## Sentence to Sequence\n",
      "To feed a sentence into the model for translation, you first need to preprocess it.  Implement the function `sentence_to_seq()` to preprocess new sentences.\n",
      "\n",
      "- Convert the sentence to lowercase\n",
      "- Convert words into ids using `vocab_to_int`\n",
      "- Convert words not in the vocabulary, to the `<UNK>` word id."
     ]
    },
    {
     "cell_type": "code",
     "collapsed": false,
     "input": [
      "def sentence_to_seq(sentence, vocab_to_int):\n",
      "    \"\"\"\n",
      "    Convert a sentence to a sequence of ids\n",
      "    :param sentence: String\n",
      "    :param vocab_to_int: Dictionary to go from the words to an id\n",
      "    :return: List of word ids\n",
      "    \"\"\"\n",
      "    unk = vocab_to_int['<UNK>']\n",
      "    return [vocab_to_int.get(word, unk) for word in sentence.lower().split()]\n",
      "\n",
      "\n",
      "\"\"\"\n",
      "DON'T MODIFY ANYTHING IN THIS CELL THAT IS BELOW THIS LINE\n",
      "\"\"\"\n",
      "tests.test_sentence_to_seq(sentence_to_seq)"
     ],
     "language": "python",
     "metadata": {
      "deletable": true,
      "editable": true
     },
     "outputs": [
      {
       "output_type": "stream",
       "stream": "stdout",
       "text": [
        "Tests Passed\n"
       ]
      }
     ],
     "prompt_number": 41
    },
    {
     "cell_type": "markdown",
     "metadata": {
      "deletable": true,
      "editable": true
     },
     "source": [
      "## Translate\n",
      "This will translate `translate_sentence` from English to French."
     ]
    },
    {
     "cell_type": "code",
     "collapsed": false,
     "input": [
      "translate_sentence = 'he saw a old yellow truck .'\n",
      "translate_sentence = 'he saw a old cat .'\n",
      "translate_sentence = 'he liked his cat .'\n",
      "\n",
      "\n",
      "\"\"\"\n",
      "DON'T MODIFY ANYTHING IN THIS CELL\n",
      "\"\"\"\n",
      "translate_sentence = sentence_to_seq(translate_sentence, source_vocab_to_int)\n",
      "\n",
      "loaded_graph = tf.Graph()\n",
      "with tf.Session(graph=loaded_graph) as sess:\n",
      "    # Load saved model\n",
      "    loader = tf.train.import_meta_graph(load_path + '.meta')\n",
      "    loader.restore(sess, load_path)\n",
      "\n",
      "    input_data = loaded_graph.get_tensor_by_name('input:0')\n",
      "    logits = loaded_graph.get_tensor_by_name('logits:0')\n",
      "    keep_prob = loaded_graph.get_tensor_by_name('keep_prob:0')\n",
      "\n",
      "    translate_logits = sess.run(logits, {input_data: [translate_sentence], keep_prob: 1.0})[0]\n",
      "\n",
      "print('Input')\n",
      "print('  Word Ids:      {}'.format([i for i in translate_sentence]))\n",
      "print('  English Words: {}'.format([source_int_to_vocab[i] for i in translate_sentence]))\n",
      "\n",
      "print('\\nPrediction')\n",
      "print('  Word Ids:      {}'.format([i for i in np.argmax(translate_logits, 1)]))\n",
      "print('  French Words: {}'.format([target_int_to_vocab[i] for i in np.argmax(translate_logits, 1)]))"
     ],
     "language": "python",
     "metadata": {
      "deletable": true,
      "editable": true
     },
     "outputs": [
      {
       "output_type": "stream",
       "stream": "stdout",
       "text": [
        "Input\n",
        "  Word Ids:      [53, 139, 5, 227, 25]\n",
        "  English Words: ['he', 'liked', 'his', 'cat', '.']\n",
        "\n",
        "Prediction\n",
        "  Word Ids:      [320, 339, 251, 183, 347, 320, 168, 251, 100, 1]\n",
        "  French Words: ['la', 'aim\u00e9', 'est', ',', 'mais', 'la', 'poire', 'est', '.', '<EOS>']\n"
       ]
      }
     ],
     "prompt_number": 44
    },
    {
     "cell_type": "markdown",
     "metadata": {
      "deletable": true,
      "editable": true
     },
     "source": [
      "## Imperfect Translation\n",
      "You might notice that some sentences translate better than others.  Since the dataset you're using only has a vocabulary of 227 English words of the thousands that you use, you're only going to see good results using these words.  Additionally, the translations in this data set were made by Google translate, so the translations themselves aren't particularly good.  (We apologize to the French speakers out there!) Thankfully, for this project, you don't need a perfect translation. However, if you want to create a better translation model, you'll need better data.\n",
      "\n",
      "You can train on the [WMT10 French-English corpus](http://www.statmt.org/wmt10/training-giga-fren.tar).  This dataset has more vocabulary and richer in topics discussed.  However, this will take you days to train, so make sure you've a GPU and the neural network is performing well on dataset we provided.  Just make sure you play with the WMT10 corpus after you've submitted this project.\n",
      "## Submitting This Project\n",
      "When submitting this project, make sure to run all the cells before saving the notebook. Save the notebook file as \"dlnd_language_translation.ipynb\" and save it as a HTML file under \"File\" -> \"Download as\". Include the \"helper.py\" and \"problem_unittests.py\" files in your submission."
     ]
    }
   ],
   "metadata": {}
  }
 ]
}